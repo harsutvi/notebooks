{
 "cells": [
  {
   "cell_type": "markdown",
   "id": "1fb3663c",
   "metadata": {},
   "source": [
    "##### [< Forrige](11%20-%20interaktive%20websider.ipynb#Interaktivt-kart)    |     <span style=\"color:lightgrey\">Neste></span>"
   ]
  },
  {
   "cell_type": "markdown",
   "id": "4634ce39-c01e-4f10-b7a9-a0e54de492be",
   "metadata": {
    "jp-MarkdownHeadingCollapsed": true,
    "tags": []
   },
   "source": [
    "<span style=\"color:#9bb1d4;font-size:30px;font-weight:900\"> 12 - animasjon og klasse </span>  "
   ]
  },
  {
   "cell_type": "markdown",
   "id": "b25fdbd8",
   "metadata": {},
   "source": [
    "# Hva er en klasse i python"
   ]
  },
  {
   "cell_type": "markdown",
   "id": "733d7ffd",
   "metadata": {},
   "source": [
    "En \"klasse\" i bython er et objekt. Python er et objektorientert programmeringsspråk, som de fleste moderne programmerinsspråk er. Hittil har vi imidlertid kjørt programmer som har en begynnelse og en slutt. \n",
    "\n",
    "Et objekt er noe som skapes, og er der så lenge programmet kjører. Et objekt kan ha egenskaper (variabler som inneholder tekst, tall, lister eller andre objekter) og funksjoner. \n",
    "\n",
    "For å skjønne poenget med objekter er det greit å begynne med et enkelt eksempel. Vi kan for eksempel lage en robot, eller \"bot\" som det ofte kalles. Vi starter med å definere hva klassen (objekt-typen) skal hete (\"Bot\") og hva som skal skje når objektet initieres (`__init__()`-funksjonen). \n",
    "\n",
    "#### Eksempel 1:"
   ]
  },
  {
   "cell_type": "code",
   "execution_count": 1,
   "id": "b1fc65e2",
   "metadata": {},
   "outputs": [],
   "source": [
    "class Bot():\n",
    "    def __init__(self, name, greeting='Hello', presentation='My name is', feelings=False):\n",
    "        self.name=name\n",
    "        self.greeting=greeting\n",
    "        self.feelings=feelings\n",
    "        self.presentation=presentation\n",
    "        \n",
    "    def answer(self,question):\n",
    "        if question=='Do you have feelings?':\n",
    "            return f'It is {self.feelings} that I have feelings'\n",
    "        if question=='What is your name?':\n",
    "            return f\"{self.presentation} {self.name}\"\n",
    "        if question=='Hi!':\n",
    "            return self.greeting"
   ]
  },
  {
   "cell_type": "markdown",
   "id": "1e102c8f",
   "metadata": {},
   "source": [
    "Vi har nå definert hva slags struktur boten vår skal ha. Da er det tid for å lage en bestemt utgave av 'boten, som vi kan kalle \"Leif\":\n",
    "\n",
    "#### Eksempel 2:"
   ]
  },
  {
   "cell_type": "code",
   "execution_count": 2,
   "id": "4a9ee8b8",
   "metadata": {},
   "outputs": [],
   "source": [
    "the_bot_leif=Bot('Leif', 'Hello!', 'My name is', True)"
   ]
  },
  {
   "cell_type": "markdown",
   "id": "3f9773dc",
   "metadata": {},
   "source": [
    "Om du har kjørt koden over, kan du nå teste ut 'boten:\n",
    "\n",
    "#### Eksempel 3:"
   ]
  },
  {
   "cell_type": "code",
   "execution_count": 3,
   "id": "91eccd03",
   "metadata": {
    "scrolled": true
   },
   "outputs": [
    {
     "data": {
      "text/plain": [
       "'Hello!'"
      ]
     },
     "execution_count": 3,
     "metadata": {},
     "output_type": "execute_result"
    }
   ],
   "source": [
    "the_bot_leif.answer('Hi!')"
   ]
  },
  {
   "cell_type": "code",
   "execution_count": 4,
   "id": "bc4cbeab",
   "metadata": {
    "tags": []
   },
   "outputs": [
    {
     "data": {
      "text/plain": [
       "'My name is Leif'"
      ]
     },
     "execution_count": 4,
     "metadata": {},
     "output_type": "execute_result"
    }
   ],
   "source": [
    "the_bot_leif.answer('What is your name?')"
   ]
  },
  {
   "cell_type": "code",
   "execution_count": 5,
   "id": "7337e73f",
   "metadata": {},
   "outputs": [
    {
     "data": {
      "text/plain": [
       "'It is True that I have feelings'"
      ]
     },
     "execution_count": 5,
     "metadata": {},
     "output_type": "execute_result"
    }
   ],
   "source": [
    "the_bot_leif.answer('Do you have feelings?')"
   ]
  },
  {
   "cell_type": "markdown",
   "id": "893798f3-21f2-48ef-882a-25f5d2011d78",
   "metadata": {},
   "source": [
    "# Eksempel på animasjon og klasse\n",
    "\n",
    "Vi kan for eksempel bruke klasse til å laget et marked, med tilbud, etterspørsel og en likevekt. Denne klassen har en bestemt tilbudsfunksjon, etterspørselsfunksjon og du kan sette en skatt på markedet når du oppretter det. \n",
    "\n",
    "Som du ser av `__init__`-funksjonen, så regnes likevekspris og kvantum ut når markedet opprettes, med gitt skatt. Skatten legges til tilbudsfunksjonen, slik at når denne kalles, så vil det være inkludert skatt. \n",
    "\n",
    "Til å regne ut likevekt, bruker vi sympy slik vi har lært i [5 - sympy](5%20-%20sympy.ipynb).\n",
    "\n",
    "#### Eksempel 4:"
   ]
  },
  {
   "cell_type": "code",
   "execution_count": 6,
   "id": "569fb367",
   "metadata": {},
   "outputs": [],
   "source": [
    "import sympy as sp\n",
    "\n",
    "class Market():\n",
    "    def __init__(self, tax=0):\n",
    "        self.tax = tax\n",
    "        x = sp.symbols('x')\n",
    "        eq_cond = sp.Eq(self.demand(x),self.supply(x))\n",
    "        x_eq = sp.solve(eq_cond,x)\n",
    "        self.x = float(x_eq[0])\n",
    "        self.p = self.demand(self.x)\n",
    "        \n",
    "    def supply(self, x):\n",
    "        return (x**2)*(1/250)+10+self.tax\n",
    "\n",
    "    def demand(self, x):\n",
    "        return 3000/(100+x)\n",
    "\n",
    "\n",
    "    "
   ]
  },
  {
   "cell_type": "markdown",
   "id": "23f9dc88",
   "metadata": {},
   "source": [
    "Ved å opprette to markeder, ett med skatt og ett uten, kan vi sammenligne situasjonen. Vi starter med å lage de to markedene, der vi setter en skatt på 10 i det ene markedet:\n",
    "\n",
    "#### Eksempel 5:"
   ]
  },
  {
   "cell_type": "code",
   "execution_count": 7,
   "id": "66a48db1",
   "metadata": {},
   "outputs": [],
   "source": [
    "mkt = Market()\n",
    "mkt_tax = Market(10)"
   ]
  },
  {
   "cell_type": "markdown",
   "id": "f6c380e4",
   "metadata": {},
   "source": [
    "Vi kan nå plotte disse. Vi plotter tilbud og etterspørsel i markedene på samme måte som før i [3 - matplotlib](3%20-%20matplotlib.ipynb), bortsett fra at vi setter det inn i en funksjon. \n",
    "\n",
    "Legg merke til at vi først lager et figur- og akseobjekt som vil være uendret, men at innholdet i akseobjektet slettes hver gang vi kaller `save_plot`. Årsaken til dette er at vi lenger ned skal lage mange figurer. Om vi oppretter et nytt figurobjekt hver gang vil alle figurene trenge plass i minnet til PC'en, noe som vil gi unødvendig stor bruk av maskinens internminne. \n",
    "\n",
    "#### Eksempel 6:"
   ]
  },
  {
   "cell_type": "code",
   "execution_count": 8,
   "id": "cc70fd33",
   "metadata": {},
   "outputs": [],
   "source": [
    "%%capture\n",
    "#%%capture avoids printing an empty figure here\n",
    "import numpy as np\n",
    "from matplotlib import pyplot as plt\n",
    "\n",
    "#create figure and axis objects. These objects will be used for every plot, in order to conserve memory. \n",
    "fig, ax=plt.subplots(figsize=(15,10), dpi=100)\n",
    "\n",
    "def save_plot(market, market_taxed, i):\n",
    "    \"\"\"Plots market and market_taxed and saves to /img/fig<i>.png \"\"\"\n",
    "    #clearing previouis plot. We use the same ax each time, and clear it before plotting, to save memory\n",
    "    ax.clear()\n",
    "\n",
    "    #formatting the plot:\n",
    "    ax.set_ylabel('Pris')\n",
    "    ax.set_xlabel('Enheter')\n",
    "\n",
    "    ax.spines['top'].set_visible(False)\n",
    "    ax.spines['right'].set_visible(False)\n",
    "    ax.spines['bottom'].set_visible(False)\n",
    "    ax.spines['left'].set_visible(False)\n",
    "\n",
    "    ax.set_xlim([0, 100])\n",
    "    ax.set_ylim([0, 40])\n",
    "\n",
    "\n",
    "    #setting the quantities to plot\n",
    "    x = np.linspace(0,100,100)\n",
    "\n",
    "    #drawing supply\n",
    "    ax.plot(x,  market.supply(x),       label='Tilbud')\n",
    "\n",
    "    #drawing supply after tax\n",
    "    ax.plot(x,  market_taxed.supply(x), label='Tilbud etter skatt', color='black')\n",
    "\n",
    "    #drawing demand\n",
    "    ax.plot(x,  market.demand(x),       label='Etterspørsel',       color='green',)\n",
    "\n",
    "    #adding legend:\n",
    "    ax.legend(loc='upper center',frameon=False)\n",
    "    \n",
    "    #saving the plot:\n",
    "    fig.savefig(f'./img/fig{i}.png')\n",
    "\n",
    "\n",
    "    return fig\n",
    "\n"
   ]
  },
  {
   "cell_type": "markdown",
   "id": "247b44e5",
   "metadata": {},
   "source": [
    "Vi kan nå plotte markedene, med og uten skatt:\n",
    "\n",
    "#### Eksempel 7:"
   ]
  },
  {
   "cell_type": "code",
   "execution_count": 9,
   "id": "a26e64ed",
   "metadata": {},
   "outputs": [
    {
     "data": {
      "image/png": "[encoded data removed]",
      "text/plain": [
       "<Figure size 1500x1000 with 1 Axes>"
      ]
     },
     "execution_count": 9,
     "metadata": {},
     "output_type": "execute_result"
    }
   ],
   "source": [
    "save_plot(mkt, mkt_tax,0)"
   ]
  },
  {
   "cell_type": "markdown",
   "id": "73770c39",
   "metadata": {},
   "source": [
    "Om du nå sjekker i mappen 'img' i samme mappe som denne jupyter-filen ligger, vil du finne bildet over. \n",
    "\n",
    "# Vi lager en dynamisk nettside"
   ]
  },
  {
   "cell_type": "markdown",
   "id": "2e530f47",
   "metadata": {},
   "source": [
    "Vi skal nå lage en dynamisk nettside, med et skyvelær hvor vi kan velge skattenivå. Funksjonen `create_html_file` under lager en html-fil i mappen der denne jupyter-filen ligger. Den tar `rng` som argument, som representerer en etikett som skal vises til hvert bilde vi lager.  \n",
    "\n",
    "Funksjonen `read_file` sørger for at `create_html_file` kan lese to filer \"res/html1.txt\" og \"res/html2.txt\" som brukes til å lage html-filen. \n",
    "\n",
    "Vi skal ikke gå veldig detaljert inn på hvordan funksjonen under fungerer, men nøye oss med å si at det vil bli en oppgave for denne leksjonen å endre html-kodene i ovennevnte filer. \n",
    "\n",
    "#### Eksempel 8:"
   ]
  },
  {
   "cell_type": "code",
   "execution_count": 10,
   "id": "3d677e97",
   "metadata": {},
   "outputs": [
    {
     "ename": "NameError",
     "evalue": "name 'taxes' is not defined",
     "output_type": "error",
     "traceback": [
      "\u001b[1;31m---------------------------------------------------------------------------\u001b[0m",
      "\u001b[1;31mNameError\u001b[0m                                 Traceback (most recent call last)",
      "\u001b[1;32m~\\AppData\\Local\\Temp/ipykernel_2504/439597595.py\u001b[0m in \u001b[0;36m<module>\u001b[1;34m\u001b[0m\n\u001b[0;32m     26\u001b[0m     \u001b[0mresult_file\u001b[0m\u001b[1;33m.\u001b[0m\u001b[0mclose\u001b[0m\u001b[1;33m(\u001b[0m\u001b[1;33m)\u001b[0m\u001b[1;33m\u001b[0m\u001b[1;33m\u001b[0m\u001b[0m\n\u001b[0;32m     27\u001b[0m \u001b[1;33m\u001b[0m\u001b[0m\n\u001b[1;32m---> 28\u001b[1;33m \u001b[0mcreate_html_file\u001b[0m\u001b[1;33m(\u001b[0m\u001b[0mtaxes\u001b[0m\u001b[1;33m)\u001b[0m\u001b[1;33m\u001b[0m\u001b[1;33m\u001b[0m\u001b[0m\n\u001b[0m",
      "\u001b[1;31mNameError\u001b[0m: name 'taxes' is not defined"
     ]
    }
   ],
   "source": [
    "def read_file(fname):\n",
    "    f=open(fname,'r')\n",
    "    r=f.read()\n",
    "    f.close()\n",
    "    return r\n",
    "\n",
    "def create_html_file(rng):\n",
    "    \"\"\"This function creates a html-file with a slider that select the image for the desired year. \n",
    "    rng is an array with \n",
    "    It assumes that images with names /img/fig<i>.png have been saved\"\"\"\n",
    "    \n",
    "    n=len(rng)\n",
    "    s=f\"<br><br><input type='range' min='0' max='{n-1}' value='34' class='slider' id='myRange'><br><br>\\r\\n\"\n",
    "    #iterating to create a html-tag for each image:\n",
    "    for k in range(len(rng)):\n",
    "        s+=f\"<img class='slides' src='./img/fig{k}.png'>\\r\\n\"\n",
    "\n",
    "    #building the html-code from a string and two files:\n",
    "    html=s+f\"\\r\\n</body>\\r\\n<script>\\r\\n\tvar array = JSON.parse('{list(rng)}');\"\t\n",
    "    html_fileI =  read_file(\"res/html1.txt\")\n",
    "    html_fileII = read_file(\"res/html2.txt\")\n",
    "\n",
    "    #creating the target file and writing to it, before closing:\n",
    "    result_file=open(\"Tax and consumer surplus.html\",'w')\n",
    "    result_file.write(html_fileI+html+html_fileII)\n",
    "    result_file.close()\n",
    "    \n",
    "create_html_file(taxes)\n"
   ]
  },
  {
   "cell_type": "markdown",
   "id": "a483119f",
   "metadata": {},
   "source": [
    "Vi kan nå lage nettsiden vår. Det gjør vi ved å lage 15 ulike skattenivåer i intervallet -30 til 18, og så lage ett plott for hvert nivå, med og uten skatt. \n",
    "\n",
    "#### Eksempel 9:"
   ]
  },
  {
   "cell_type": "code",
   "execution_count": null,
   "id": "7e66e20f",
   "metadata": {},
   "outputs": [],
   "source": [
    "#creating the reference market\n",
    "mkt=Market()\n",
    "\n",
    "#defining dimensions for plot\n",
    "fig, ax=plt.subplots(figsize=(15,10), dpi=100)\n",
    "\n",
    "#creating a vector of tax-levels\n",
    "taxes=np.linspace(-30,18,15)\n",
    "\n",
    "#iteratign over tax levels. \n",
    "i=0\n",
    "for tax in taxes:\n",
    "    #creating a market with tax\n",
    "    mkt_taxed=Market(tax)\n",
    "    \n",
    "    #saving the plot\n",
    "    save_plot(mkt,mkt_taxed,i)\n",
    "    \n",
    "    i+=1\n",
    "    \n",
    "#creating the html-file\n",
    "create_html_file(taxes)"
   ]
  },
  {
   "cell_type": "markdown",
   "id": "ea970cf7",
   "metadata": {},
   "source": [
    "Om du ser i `img`-mappen, vi du se alle plottene der. Og i samme mappe som denne jupyter-filen vil du finne \"Tax and consumer surplus.html\". Klikker du på den, får du opp en dynamisk nettside som endrer på plott når du skyver på skyvelæret. "
   ]
  },
  {
   "cell_type": "markdown",
   "id": "50609b99",
   "metadata": {},
   "source": [
    "# En litt mer avansert figur\n",
    "\n",
    "Vi kan gjøre figuren mer avansert ved å legge til flere elementer fra figuren i [5 - sympy](5%20-%20sympy.ipynb). For markedet kan vi legge til en funksjon som regner ut konsument-, produsent- og velferdsgevinst. Disse legges så til som en egenskap ved markedet (en egenskap med `self`) etter avrunding:\n",
    "\n",
    "#### Eksempel 10:"
   ]
  },
  {
   "cell_type": "code",
   "execution_count": null,
   "id": "c93f5230",
   "metadata": {},
   "outputs": [],
   "source": [
    "class Market():\n",
    "    def __init__(self, tax=0):\n",
    "        self.tax = tax\n",
    "        x = sp.symbols('x')\n",
    "        eq_cond = sp.Eq(self.demand(x),self.supply(x))\n",
    "        x_eq = sp.solve(eq_cond,x)\n",
    "        self.x = float(x_eq[0])\n",
    "        self.p = self.demand(self.x)\n",
    "        self.calc_welfare()\n",
    "        \n",
    "    def supply(self, x):\n",
    "        return (x**2)*(1/250)+10+self.tax\n",
    "\n",
    "    def demand(self, x):\n",
    "        return 3000/(100+x)\n",
    "    \n",
    "    def calc_welfare(self):\n",
    "        x=sp.symbols('x')\n",
    "        consumer_surplus = sp.integrate( self.demand(x) - self.p,                \n",
    "                                        (x,0,self.x) )\n",
    "        producer_surplus = sp.integrate( self.p         - self.supply(x), \n",
    "                                        (x,0,self.x) )\n",
    "        welfare_surplus  = sp.integrate( self.demand(x) - mkt.supply(x),  \n",
    "                                        (x,0,self.x) )\n",
    "        \n",
    "        self.consumer_surplus = np.round(float(consumer_surplus),2)\n",
    "        self.producer_surplus = np.round(float(producer_surplus),2)\n",
    "        self.welfare_surplus  = np.round(float(welfare_surplus),2)\n",
    "\n"
   ]
  },
  {
   "cell_type": "markdown",
   "id": "864b8aa6",
   "metadata": {},
   "source": [
    "Som i [5 - sympy](5%20-%20sympy.ipynb) legger vi til fargelegging av velferdsgevinster. Ellers er plottet her indentisk med det tidligere:\n",
    "\n",
    "#### Eksempel 11:"
   ]
  },
  {
   "cell_type": "code",
   "execution_count": null,
   "id": "98e23d1c",
   "metadata": {},
   "outputs": [],
   "source": [
    "def save_plot(market, market_taxed, i):\n",
    "    #clearing previouis plot\n",
    "    ax.clear()\n",
    "\n",
    "    #formatting the plot:\n",
    "    ax.set_ylabel('Pris')\n",
    "    ax.set_xlabel('Enheter')\n",
    "\n",
    "    ax.spines['top'].set_visible(False)\n",
    "    ax.spines['right'].set_visible(False)\n",
    "    ax.spines['bottom'].set_visible(False)\n",
    "    ax.spines['left'].set_visible(False)\n",
    "\n",
    "    ax.set_xlim([0, 100])\n",
    "    ax.set_ylim([0, 40])\n",
    "\n",
    "\n",
    "    #setting the quantities to plot\n",
    "    x = np.linspace(0,100,100)\n",
    "\n",
    "    #drawing supply\n",
    "    ax.plot(x,  market.supply(x),       label='Tilbud')\n",
    "\n",
    "    #drawing supply after tax\n",
    "    ax.plot(x,  market_taxed.supply(x), label='Tilbud etter skatt', color='black')\n",
    "\n",
    "    #drawing demand\n",
    "    ax.plot(x,  market.demand(x),       label='Etterspørsel',       color='green',)\n",
    "\n",
    "    #drawing consumer surpluss\n",
    "    x = np.linspace(0,  market_taxed.x,  100)\n",
    "    ax.fill_between(x,  float(market_taxed.p),    \n",
    "                        market_taxed.demand(x), \n",
    "                        color = \"pink\",\n",
    "                        alpha = 0.3,\n",
    "                        label = f'Konsumentoverskudd: {market_taxed.consumer_surplus}')\n",
    "\n",
    "\n",
    "    #drawing producer surpluss\n",
    "    ax.fill_between(x,   market_taxed.supply(x),   \n",
    "                         float(market_taxed.p), \n",
    "                         color = \"yellow\", \n",
    "                         alpha = 0.3,\n",
    "                         label = f'Produsentoverskudd: {market_taxed.producer_surplus}')\n",
    "\n",
    "\n",
    "    ax.vlines(float(market_taxed.x), 0, 40,\n",
    "                   colors=['black'],\n",
    "                   linestyles='dashed', \n",
    "                   label='Likevektskvantum')  \n",
    "    \n",
    "    #adding legend:\n",
    "    ax.legend(loc='upper center',frameon=False)\n",
    "\n",
    "    #saving the plot:\n",
    "    fig.savefig(f'./img/fig{i}.png')\n",
    "\n",
    "\n",
    "\n",
    "    return fig"
   ]
  },
  {
   "cell_type": "markdown",
   "id": "a1cff521",
   "metadata": {},
   "source": [
    "Vi kan nå lage en ny nettside, med ekstrainformasjonen. Koden under er identisk med den vi kjørte sist:\n",
    "\n",
    "#### Eksempel 12:"
   ]
  },
  {
   "cell_type": "code",
   "execution_count": null,
   "id": "cf2b03bb",
   "metadata": {},
   "outputs": [],
   "source": [
    "#creating the reference market\n",
    "mkt=Market()\n",
    "\n",
    "#defining dimensions for plot\n",
    "fig, ax=plt.subplots(figsize=(15,10), dpi=100)\n",
    "\n",
    "#creating a vector of tax-levels\n",
    "taxes=np.linspace(-30,18,15)\n",
    "\n",
    "#iteratign over tax levels. \n",
    "i=0\n",
    "for tax in taxes:\n",
    "    #creating a market with tax\n",
    "    mkt_taxed=Market(tax)\n",
    "    \n",
    "    #saving the plot\n",
    "    save_plot(mkt,mkt_taxed,i)\n",
    "    \n",
    "    i+=1\n",
    "    \n",
    "#creating the html-file\n",
    "create_html_file(taxes)"
   ]
  },
  {
   "cell_type": "markdown",
   "id": "9076e9d5",
   "metadata": {},
   "source": [
    "# Oppgave"
   ]
  },
  {
   "cell_type": "markdown",
   "id": "f7bf67ca",
   "metadata": {},
   "source": [
    "1. Nettsiden lages ved å hente teksten som ligger i filen \"/res/html1.txt\". Du skal åpne denne filen og rediger den slik at\n",
    "\n",
    "    1. Tittelen på fanen blir riktig\n",
    "    2. Overskriften blir riktig\n",
    "    3. Beskrivelsen blir riktig, og fjern teksten som er feil formatert. \n",
    "    4. Sørg for at skatten blir avrundet. \n",
    "    \n",
    "    \n",
    "2. Lag en egen nettside basert på den vi nettopp har valgt, men med en annen figur. Du kan for eksempel la skyvelæret endre på et parameter i det første eksemplet i [5 - sympy](5%20-%20sympy.ipynb). "
   ]
  },
  {
   "cell_type": "markdown",
   "id": "dcdaf9cc",
   "metadata": {},
   "source": [
    "##### [< Forrige](11%20-%20interaktive%20websider.ipynb#Interaktivt-kart)    |     <span style=\"color:lightgrey\">Neste></span>"
   ]
  }
 ],
 "metadata": {
  "kernelspec": {
   "display_name": "Python 3 (ipykernel)",
   "language": "python",
   "name": "python3"
  },
  "language_info": {
   "codemirror_mode": {
    "name": "ipython",
    "version": 3
   },
   "file_extension": ".py",
   "mimetype": "text/x-python",
   "name": "python",
   "nbconvert_exporter": "python",
   "pygments_lexer": "ipython3",
   "version": "3.8.10"
  }
 },
 "nbformat": 4,
 "nbformat_minor": 5
}
