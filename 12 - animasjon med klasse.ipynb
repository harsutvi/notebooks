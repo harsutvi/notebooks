{
 "cells": [
  {
   "cell_type": "markdown",
   "id": "1fb3663c",
   "metadata": {},
   "source": [
    "##### [< Forrige](11%20-%20interaktive%20websider.ipynb#Interaktivt-kart)    |     <span style=\"color:lightgrey\">Neste></span>"
   ]
  },
  {
   "cell_type": "markdown",
   "id": "ca6dc8a9-1111-4486-b099-265070a6fbbf",
   "metadata": {},
   "source": [
    "# 12 - animasjon og klasse"
   ]
  },
  {
   "cell_type": "markdown",
   "id": "b25fdbd8",
   "metadata": {},
   "source": [
    "## Hva er en klasse i python"
   ]
  },
  {
   "cell_type": "markdown",
   "id": "733d7ffd",
   "metadata": {},
   "source": [
    "En \"klasse\" i bython er et objekt. Python er et objektorientert programmeringsspråk, som de fleste moderne programmerinsspråk er. Hittil har vi imidlertid kjørt programmer som har en begynnelse og en slutt. \n",
    "\n",
    "Et objekt er noe som skapes, og er der så lenge programmet kjører. Et objekt kan ha egenskaper (variabler som inneholder tekst, tall, lister eller andre objekter) og funksjoner. \n",
    "\n",
    "For å skjønne poenget med objekter er det greit å begynne med et enkelt eksempel. Vi kan for eksempel lage en robot, eller \"bot\" som det ofte kalles. Vi starter med å definere hva klassen (objekt-typen) skal hete (\"Bot\") og hva som skal skje når objektet initieres (`__init__()`-funksjonen). "
   ]
  },
  {
   "cell_type": "code",
   "execution_count": null,
   "id": "b1fc65e2",
   "metadata": {},
   "outputs": [],
   "source": [
    "class Bot():\n",
    "    def __init__(self, name, greeting='Hello', presentation='My name is', feelings=False):\n",
    "        self.name=name\n",
    "        self.greeting=greeting\n",
    "        self.feelings=feelings\n",
    "        self.presentation=presentation\n",
    "        \n",
    "    def answer(self,question):\n",
    "        if question=='Do you have feelings?':\n",
    "            return f'It is {self.feelings} that I have feelings'\n",
    "        if question=='What is your name?':\n",
    "            return f\"{self.presentation} {self.name}\"\n",
    "        if question=='Hi!':\n",
    "            return self.greeting"
   ]
  },
  {
   "cell_type": "markdown",
   "id": "1e102c8f",
   "metadata": {},
   "source": [
    "Vi har nå definert hva slags struktur boten vår skal ha. Da er det tid for å lage en bestemt utgave av 'boten, som vi kan kalle \"Leif\":"
   ]
  },
  {
   "cell_type": "code",
   "execution_count": null,
   "id": "4a9ee8b8",
   "metadata": {},
   "outputs": [],
   "source": [
    "the_bot_leif=bot('Leif', 'Good day!', 'I hate', True)"
   ]
  },
  {
   "cell_type": "markdown",
   "id": "3f9773dc",
   "metadata": {},
   "source": [
    "Om du har kjørt koden over, kan du nå teste ut 'boten:"
   ]
  },
  {
   "cell_type": "code",
   "execution_count": null,
   "id": "91eccd03",
   "metadata": {
    "scrolled": true
   },
   "outputs": [],
   "source": [
    "the_bot_leif.answer('Hi!')"
   ]
  },
  {
   "cell_type": "code",
   "execution_count": null,
   "id": "bc4cbeab",
   "metadata": {},
   "outputs": [],
   "source": [
    "the_bot_leif.answer('Do you have feelings?')"
   ]
  },
  {
   "cell_type": "code",
   "execution_count": null,
   "id": "7337e73f",
   "metadata": {},
   "outputs": [],
   "source": [
    "the_bot_leif.answer('What is your name?')"
   ]
  },
  {
   "cell_type": "markdown",
   "id": "893798f3-21f2-48ef-882a-25f5d2011d78",
   "metadata": {},
   "source": [
    "## Eksempel på animasjon og klasse\n",
    "\n",
    "Her er en kode som illustrerer tilbuds og etterspørselsoverskudd:"
   ]
  },
  {
   "cell_type": "code",
   "execution_count": null,
   "id": "18b0a482",
   "metadata": {},
   "outputs": [],
   "source": []
  },
  {
   "cell_type": "code",
   "execution_count": 1,
   "id": "7d6b7f89",
   "metadata": {},
   "outputs": [],
   "source": [
    "class Market():\n",
    "    def __init__(self, tax=0):\n",
    "        self.tax = tax\n",
    "        x = sp.symbols('x')\n",
    "        eq_cond = sp.Eq(self.demand(x),self.supply(x))\n",
    "        x_eq = sp.solve(eq_cond,x)\n",
    "        self.x = float(x_eq[0])\n",
    "        self.p = self.demand(self.x)\n",
    "        \n",
    "    def supply(self, x):\n",
    "        return (x**2)*(1/250)+self.tax\n",
    "\n",
    "    def demand(self, x):\n",
    "        return 3000/(100+x)\n",
    "\n",
    "\n",
    "    "
   ]
  },
  {
   "cell_type": "code",
   "execution_count": 2,
   "id": "74b45708",
   "metadata": {},
   "outputs": [],
   "source": [
    "%%capture\n",
    "#above disables output for this cell (avoid blank figure)\n",
    "\n",
    "import numpy as np\n",
    "import sympy as sp\n",
    "from IPython.display import Markdown\n",
    "from matplotlib import pyplot as plt\n",
    "\n",
    "\n",
    "\n",
    "#create figure and axis objects:\n",
    "fig, ax=plt.subplots(figsize=(10,10))\n",
    "\n",
    "def save_plot(market, market_taxed,i):\n",
    "    \n",
    "    #clearing previouis plot\n",
    "    plt.cla()\n",
    "    \n",
    "    #formatting the plot:\n",
    "    ax.set_ylabel('Pris')\n",
    "    ax.set_xlabel('Enheter')\n",
    "\n",
    "    ax.spines['top'].set_visible(False)\n",
    "    ax.spines['right'].set_visible(False)\n",
    "    ax.spines['bottom'].set_visible(False)\n",
    "    ax.spines['left'].set_visible(False)\n",
    "\n",
    "    ax.set_xlim([0, 100])\n",
    "    ax.set_ylim([0, 40])\n",
    "\n",
    "\n",
    "    #setting the quantities to plot\n",
    "    q = np.linspace(0,100,100)\n",
    "\n",
    "    #drawing supply\n",
    "    ax.plot(q,  market.supply(q),       label='Tilbud')\n",
    "\n",
    "    #drawing supply after tax\n",
    "    ax.plot(q,  market_taxed.supply(q), label='Tilbud etter skatt', color='black')\n",
    "\n",
    "    #drawing demand\n",
    "    ax.plot(q,  market.demand(q),       label='Etterspørsel',       color='green',)\n",
    "\n",
    "    #adding legend:\n",
    "    ax.legend(loc='upper center',frameon=False)\n",
    "\n",
    "    #saving the plot:\n",
    "    fig.savefig(f'./img/fig{i}.png')\n",
    " "
   ]
  },
  {
   "cell_type": "code",
   "execution_count": 4,
   "id": "3abf3fac",
   "metadata": {},
   "outputs": [],
   "source": [
    "def read_file(fname):\n",
    "    f=open(fname,'r')\n",
    "    r=f.read()\n",
    "    f.close()\n",
    "    return r\n",
    "\n",
    "def create_html_file(rng):\n",
    "    \"\"\"This function creates a html-file with a slider that select the image for the desired year\"\"\"\n",
    "    n=len(rng)\n",
    "    s=f\"<input type='range' min='0' max='{n-1}' value='34' class='slider' id='myRange'><br><br><br><br>\\r\\n\"\n",
    "    #iterating to create a html-tag for each image:\n",
    "    for k in range(len(rng)):#paste the result of this into the html code\n",
    "        s+=f\"<img class='slides' src='./img/fig{k}.png'>\\r\\n\"\n",
    "\n",
    "    #building the html-code from a string and two files:\n",
    "    html=s+f\"\\r\\n</body>\\r\\n<script>\\r\\n\tvar array = JSON.parse('{rng}');\"\t\n",
    "    html_fileI =  read_file(\"res/html1.txt\")\n",
    "    html_fileII = read_file(\"res/html2.txt\")\n",
    "\n",
    "    #creating the target file and writing to it, before closing:\n",
    "    result_file=open(\"Tax and consumer surplus.html\",'w')\n",
    "    result_file.write(html_fileI+html+html_fileII)\n",
    "    result_file.close()\n",
    "    \n",
    "\n"
   ]
  },
  {
   "cell_type": "code",
   "execution_count": 5,
   "id": "cec67e6c",
   "metadata": {},
   "outputs": [
    {
     "data": {
      "image/png": "[encoded data removed]",
      "text/plain": [
       "<Figure size 432x288 with 1 Axes>"
      ]
     },
     "metadata": {
      "needs_background": "light"
     },
     "output_type": "display_data"
    }
   ],
   "source": [
    "mkt=Market()\n",
    "\n",
    "taxes=list(range(-10,11))\n",
    "i=0\n",
    "for tax in taxes:\n",
    "    mkt_taxed=Market(tax)\n",
    "    save_plot(mkt,mkt_taxed,i)\n",
    "    i+=1\n",
    "    \n",
    "create_html_file(taxes)\n",
    "\n",
    "\n",
    "\n",
    "        \n",
    "\n"
   ]
  },
  {
   "cell_type": "markdown",
   "id": "6d4d9a2a",
   "metadata": {},
   "source": [
    "## En litt mer avansert figur\n",
    "\n",
    "Vi gjør figuren mer avansert ved å legge til flere elementer fra figuren i [5 - sympy](5%20-%20sympy.ipynb):"
   ]
  },
  {
   "cell_type": "code",
   "execution_count": null,
   "id": "5d98108d",
   "metadata": {},
   "outputs": [],
   "source": [
    "import numpy as np\n",
    "import sympy as sp\n",
    "from IPython.display import Markdown\n",
    "from matplotlib import pyplot as plt\n",
    "\n",
    "\n",
    "class market():\n",
    "    def __init__(self):\n",
    "        fig, ax=plt.subplots(figsize=(10,10))\n",
    "        self.fig = fig\n",
    "        self.ax  = ax\n",
    "\n",
    "    def supply(self,x, tax=0):\n",
    "        return (x**2)*(1/250)+tax\n",
    "\n",
    "    def demand(self,x):\n",
    "        return 3000/(100+x)\n",
    "    \n",
    "    def equilibrium(self, tax):\n",
    "        x=sp.symbols('x')\n",
    "        eq_cond=sp.Eq(mkt.demand(x),mkt.supply(x, tax))\n",
    "        x_eq=sp.solve(eq_cond,x)\n",
    "        x_eq=float(x_eq[0])\n",
    "        p_eq=self.demand(x_eq)\n",
    "        return x_eq, p_eq\n",
    "        \n",
    "    def calc_welfare(self,tax, p_eq, x_eq):\n",
    "        x=sp.symbols('x')\n",
    "        consumer_surplus = sp.integrate( self.demand(x) - p_eq,                (x,0,x_eq) )\n",
    "        producer_surplus = sp.integrate( p_eq           - self.supply(x, tax), (x,0,x_eq) )\n",
    "        welfare_surplus  = sp.integrate( self.demand(x) - mkt.supply(x, tax),  (x,0,x_eq) )\n",
    "        \n",
    "        self.consumer_surplus = np.round(float(consumer_surplus),2)\n",
    "        self.producer_surplus = np.round(float(producer_surplus),2)\n",
    "        self.welfare_surplus  = np.round(float(welfare_surplus),2)\n",
    "\n",
    "        \n",
    "    def save_figure(self,tax, i):\n",
    "        self.create_plot(tax)\n",
    "        self.fig.savefig(f'./img/fig{i}.png')\n",
    "        \n",
    "    def new_plot(self):\n",
    "        \n",
    "        plt.cla()\n",
    "        self.ax.set_ylabel('Pris')\n",
    "        self.ax.set_xlabel('Enheter')\n",
    "    \n",
    "        self.ax.spines['top'].set_visible(False)\n",
    "        self.ax.spines['right'].set_visible(False)\n",
    "        self.ax.spines['bottom'].set_visible(False)\n",
    "        self.ax.spines['left'].set_visible(False)\n",
    "        \n",
    "        self.ax.set_xlim([0, 100])\n",
    "        self.ax.set_ylim([0, 40])\n",
    "        \n",
    "    def create_plot(self, tax):\n",
    "        q = np.linspace(0,100,100)\n",
    "        \n",
    "        #calculate equilibrium and welfare\n",
    "        x_eq, p_eq = self.equilibrium(tax)\n",
    "        self.calc_welfare(tax, p_eq, x_eq)\n",
    "        \n",
    "        #creating new plot:\n",
    "        self.new_plot()\n",
    "\n",
    "        \n",
    "        #drawing supply\n",
    "        self.ax.plot(q,self.supply(q),label='Tilbud')\n",
    "        \n",
    "        #drawing supply after tax\n",
    "        self.ax.plot(q,self.supply(q, tax),label='Tilbud etter skatt', color='black')\n",
    "\n",
    "        #drawing demand\n",
    "        self.ax.plot(q,self.demand(q),color='green',label='Etterspørsel')\n",
    "        \n",
    "        #drawing consumer surpluss\n",
    "        q = np.linspace(0,x_eq,100)\n",
    "        self.ax.fill_between(q,float(p_eq),self.demand(q), \n",
    "                             color = \"pink\",alpha = 0.3,\n",
    "                             label = f'Konsumentoverskudd: {self.consumer_surplus}')\n",
    "    \n",
    "        \n",
    "        #drawing producer surpluss\n",
    "        self.ax.fill_between(q,self.supply(q, tax),float(p_eq), \n",
    "                             color = \"yellow\",alpha = 0.3,\n",
    "                             label = f'Produsentoverskudd: {self.producer_surplus}')\n",
    "        \n",
    "        \n",
    "        self.ax.vlines(float(x_eq), 0, 25,colors=['black'],linestyles='dashed', label='Likevektskvantum')\n",
    "        \n",
    "        #adding legend\n",
    "        self.ax.legend(loc='upper center',frameon=False)\n",
    "        \n",
    "        \n",
    "        \n"
   ]
  },
  {
   "cell_type": "code",
   "execution_count": null,
   "id": "d1c114b6",
   "metadata": {},
   "outputs": [],
   "source": []
  },
  {
   "cell_type": "code",
   "execution_count": null,
   "id": "f710c075",
   "metadata": {},
   "outputs": [],
   "source": []
  },
  {
   "cell_type": "markdown",
   "id": "dcdaf9cc",
   "metadata": {},
   "source": [
    "##### [< Forrige](11%20-%20interaktive%20websider.ipynb#Interaktivt-kart)    |     <span style=\"color:lightgrey\">Neste></span>"
   ]
  },
  {
   "cell_type": "code",
   "execution_count": null,
   "id": "6480aaf1",
   "metadata": {},
   "outputs": [],
   "source": []
  }
 ],
 "metadata": {
  "kernelspec": {
   "display_name": "Python 3 (ipykernel)",
   "language": "python",
   "name": "python3"
  },
  "language_info": {
   "codemirror_mode": {
    "name": "ipython",
    "version": 3
   },
   "file_extension": ".py",
   "mimetype": "text/x-python",
   "name": "python",
   "nbconvert_exporter": "python",
   "pygments_lexer": "ipython3",
   "version": "3.8.10"
  }
 },
 "nbformat": 4,
 "nbformat_minor": 5
}
