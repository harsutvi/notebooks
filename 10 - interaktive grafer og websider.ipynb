{
 "cells": [
  {
   "cell_type": "markdown",
   "id": "7afcf2ea-6b86-40c4-afd4-d54cabfbd869",
   "metadata": {},
   "source": [
    "# 10 - interaktive grafer og websider"
   ]
  },
  {
   "cell_type": "markdown",
   "id": "a671a92e-ad48-4830-ac6e-366a8582f8bf",
   "metadata": {},
   "source": [
    "Kommer ..."
   ]
  }
 ],
 "metadata": {
  "kernelspec": {
   "display_name": "Python 3 (ipykernel)",
   "language": "python",
   "name": "python3"
  },
  "language_info": {
   "codemirror_mode": {
    "name": "ipython",
    "version": 3
   },
   "file_extension": ".py",
   "mimetype": "text/x-python",
   "name": "python",
   "nbconvert_exporter": "python",
   "pygments_lexer": "ipython3",
   "version": "3.8.10"
  }
 },
 "nbformat": 4,
 "nbformat_minor": 5
}
