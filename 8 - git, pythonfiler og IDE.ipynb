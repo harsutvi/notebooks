{
 "cells": [
  {
   "cell_type": "markdown",
   "id": "954bc7a6-e8e2-4d60-a819-8a069a15924f",
   "metadata": {},
   "source": [
    "# 8 - git, pythonfiler og IDE"
   ]
  },
  {
   "cell_type": "markdown",
   "id": "173c7871-278a-4ad8-93d2-42ada6d49fac",
   "metadata": {},
   "source": [
    "Kommer ..."
   ]
  }
 ],
 "metadata": {
  "kernelspec": {
   "display_name": "Python 3 (ipykernel)",
   "language": "python",
   "name": "python3"
  },
  "language_info": {
   "codemirror_mode": {
    "name": "ipython",
    "version": 3
   },
   "file_extension": ".py",
   "mimetype": "text/x-python",
   "name": "python",
   "nbconvert_exporter": "python",
   "pygments_lexer": "ipython3",
   "version": "3.8.10"
  }
 },
 "nbformat": 4,
 "nbformat_minor": 5
}
