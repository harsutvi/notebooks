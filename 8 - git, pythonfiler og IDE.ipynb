{
 "cells": [
  {
   "cell_type": "markdown",
   "id": "954bc7a6-e8e2-4d60-a819-8a069a15924f",
   "metadata": {},
   "source": [
    "# 8 - git, pythonfiler og IDE"
   ]
  },
  {
   "cell_type": "markdown",
   "id": "1381f253",
   "metadata": {},
   "source": [
    "# Git"
   ]
  },
  {
   "cell_type": "markdown",
   "id": "10e03586",
   "metadata": {},
   "source": [
    "<a href=\"https://github.com/\"><img align=\"right\" src=\"img/github.png\" style=\"padding:20px;\"></a>\n",
    "Vi har fra før lært hvordan vi kloner et git-repositorie og hvordan vi dytter endringer dit. Men den kanskje viktigste funksjonen til git er som verktøy for å samarbeide om og koordinere arbeid med kode. I denne forelesningen skal vi se litt nærmere på hvordan vi bruker git til dette. \n",
    "\n",
    "For å forstå dette, oppretter vi et enkelt test-repositorie med en tekstfil, som vi kan teste git på."
   ]
  },
  {
   "cell_type": "markdown",
   "id": "15a8c186",
   "metadata": {},
   "source": [
    "## Opprett et nytt repositorie med en tekstfil\n",
    "Start med å opprette et repositorie du kaller \"git-test\": \n",
    "1. gå til [https://github.com/](https://github.com/) og logg eventuelt inn, om du ikke allerede er innlogget\n",
    "2. Trykk New\n",
    "3. Kall repositoriet \"git-test\"\n",
    "\n",
    "Du skal så klone dette repositoriet. Finn en egnet plassering, for eksempel ved å lage en ny mappe med navn \"SOK-1005\".\n",
    "\n",
    "3. Åpne kommandovinduet\n",
    "4. Skriv inn `cd <ønsket plassering>`, for eksempel `cd SOK-1005`. \n",
    "5. Klon repositoriet dit med `git clone <url>`\n",
    "\n",
    "Du bytter ut `<url>` med url-en til ditt nye repositorie (kopier adressen i nettleseren)\n",
    "\n",
    "6. Opprett en ny tekstfil i den nye mappen \"git-test\". I windows og `jupyter.uit.no` gjør du det ved å høyreklikke i mappen. \n",
    "\n",
    "7. Åpne tekstfilen og skriv inn tre linjer med følgende tekst: \n",
    "```\n",
    "To be, or not to be, that is the question:\n",
    "Whether 'tis nobler in the mind to suffer\n",
    "The slings and arrows of outrageous fortune,\n",
    "Or to take Arms against a Sea of troubles,\n",
    "And by opposing end them? \n",
    "```\n",
    "8. Dytt endringene til git-hub ved å skrive (HUSK bruk `cd` + mappenavn for å navigere deg inn i `git-test`):\n",
    "```\n",
    "git add .\n",
    "git commit -m \"added Shakespeare\"\n",
    "git push\n",
    "```\n",
    "Blir du bedt om brukernavn/passord, generer du et [token](https://github.com/settings/tokens) (husk å merke av for \"repo\") og bruker det som passord. "
   ]
  },
  {
   "cell_type": "markdown",
   "id": "14ea777c",
   "metadata": {},
   "source": [
    "## Konflikt"
   ]
  },
  {
   "cell_type": "markdown",
   "id": "ed52a5c1",
   "metadata": {},
   "source": [
    "Til nå har vi forutsatt at bare én person arbeider med samme repositorie. Hele poenget med git er imidlertid samarbeid, og da oppstår det ofte \"konflikt\". Vi snakker ikke da om bitter uenighet, men at to personer gjør endringer i samme repositorie på en måte som git ikke klarer å ordne opp i. \n",
    "\n",
    "Kort fortalt så klarer git fint å holde rede på at  ulike personer endrer på ulike filer, men når ulike personer endrer samme fil oppstår det konflikt. La os simulere dette med den nye tekstfilen vi har laget. \n",
    "\n",
    "Du skal nå ta rollene som begge parter i konflikten. \n",
    "\n",
    "1. Gå til repositoriet på github og endre \" 'tis\" i teksten til \"it is\"\n",
    "2. Gå til tekstfilen lokalt, og endre samme del av teksten til \"this\", og lukk tekstfilen.\n",
    "3. Forplikt den lokale endringen i kommandovinduet med \n",
    "```\n",
    "git add .\n",
    "git commit -m \"Improved Shakespeare\"\n",
    "```\n",
    "\n"
   ]
  },
  {
   "cell_type": "markdown",
   "id": "f2c2de7f",
   "metadata": {},
   "source": [
    "## Konfliktløsning\n",
    "Du har nå skapt en konflikt med deg selv. For å løse konflikten må du kjøre\n",
    "```\n",
    "git pull\n",
    "```\n",
    "\n",
    "Du skal da få en melding om at det er en konflikt du må løse. Åpne tekstfilen lokalt på nytt. Du vil da se at den er endret til noe slikt som dette:\n",
    "\n",
    "```\n",
    "To be, or not to be, that is the question:\n",
    "<<<<<<< HEAD\n",
    "Whether this nobler in the mind to suffer\n",
    "=======\n",
    "Whether 'it is nobler in the mind to suffer\n",
    ">>>>>>> 2de43c361c099727ae6f3cabce81a2fb87fe3e48\n",
    "The slings and arrows of outrageous fortune,\n",
    "Or to take Arms against a Sea of troubles,\n",
    "And by opposing end them? \n",
    "```\n",
    "\n",
    "Partitet mellom `<<<<<<< HEAD` og `>>>>>>> 2de43c361c099727ae6f3cabce81a2fb87fe3e48` er der konflikten befinner seg. Bytt ut teksten med\n",
    "\n",
    "```\n",
    "To be, or not to be, that is the question:\n",
    "Whether it is nobler in the mind to suffer        #\" 'tis\" means \"it is\" NOT \"this\", can I read?\n",
    "The slings and arrows of outrageous fortune,\n",
    "Or to take Arms against a Sea of troubles,\n",
    "And by opposing end them? \n",
    "```\n",
    "\n",
    "forplikt og dytt endringene til github:\n",
    "```\n",
    "git add .\n",
    "git commit -m \"Modernized Shakespeare\"\n",
    "git push\n",
    "```\n",
    "Du har nå løst konflikten."
   ]
  },
  {
   "cell_type": "markdown",
   "id": "0b909102",
   "metadata": {},
   "source": [
    "# Arbeidsflyt i git"
   ]
  },
  {
   "cell_type": "markdown",
   "id": "d9812bf1",
   "metadata": {},
   "source": [
    "Følgende arbeidsflyt anbefales for git:\n",
    "\n",
    "1. Kjør følgende kommandoer ofte:\n",
    "```\n",
    "git add .\n",
    "git commit -m \"Update\"\n",
    "git pull\n",
    "```\n",
    "   Da vil din kode hele tiden være oppdatert mot originalkoden på serveren. Dersom du oppdager konflikter, kan du håndtere dem selv eller ta opp konflikten med de andre på prosjektet. Generelt er det en god idé at flere ikke jobber med samme fil samtidig. \n",
    "   \n",
    "\n",
    "2. Når det likevel skjer en konflikt, er det forholdsvis enkelt å håndtere i git. Du får beskjed om konflikten etter å ha kjørt `git pull`, og redigerer filen(e) det gjelder der det er markert.  \n",
    "\n",
    "\n",
    "2. Kjør alltid kommandoene i 1. før du dytter til orginalen på serveren (`git push`)"
   ]
  },
  {
   "cell_type": "markdown",
   "id": "fca589ad",
   "metadata": {},
   "source": [
    "# IDE'er"
   ]
  },
  {
   "cell_type": "markdown",
   "id": "76762f5d",
   "metadata": {},
   "source": [
    "Integrated Development Environment (IDE) er et program som hjelper deg å programmere. I motsetning til jupyter, brukes IDE'er til å redigere tekstfiler. \n",
    "\n",
    "Jupyter er fint til å redigere korte programsnutter og å hente inn og kjøre ferdigprogrammerte pakker og moduler. Men skal du skrive kode på mer en femten linjer, bør du skrive dem i en tekstfil. \n",
    "\n",
    "Når du programmerer i python, oppretter du en normal tekstfil med"
   ]
  }
 ],
 "metadata": {
  "kernelspec": {
   "display_name": "Python 3 (ipykernel)",
   "language": "python",
   "name": "python3"
  },
  "language_info": {
   "codemirror_mode": {
    "name": "ipython",
    "version": 3
   },
   "file_extension": ".py",
   "mimetype": "text/x-python",
   "name": "python",
   "nbconvert_exporter": "python",
   "pygments_lexer": "ipython3",
   "version": "3.8.10"
  }
 },
 "nbformat": 4,
 "nbformat_minor": 5
}
