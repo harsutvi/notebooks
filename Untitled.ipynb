{
 "cells": [
  {
   "cell_type": "code",
   "execution_count": 2,
   "id": "5fb9d2ce",
   "metadata": {},
   "outputs": [
    {
     "data": {
      "text/markdown": [
       "\n",
       "        |                     | Verdi                                    |\n",
       "        | :-------------------| :----------------------------------------|\n",
       "        | Solgt mengde:       | $5$           |\n",
       "        | Pris:               | $5$              |\n",
       "        | Verdiskapning:      | $5$  |\n",
       "        | Konsumentoverskudd: | $5$ | \n",
       "        | Produsentoverskudd: | $5$ | \n",
       "        \n",
       "        "
      ],
      "text/plain": [
       "<IPython.core.display.Markdown object>"
      ]
     },
     "metadata": {},
     "output_type": "display_data"
    }
   ],
   "source": [
    "import sympy as sp\n",
    "from IPython.display import Markdown\n",
    "tbl=f\"\"\"\n",
    "        |                     | Verdi                                    |\n",
    "        | :-------------------| :----------------------------------------|\n",
    "        | Solgt mengde:       | $5$           |\n",
    "        | Pris:               | $5$              |\n",
    "        | Verdiskapning:      | $5$  |\n",
    "        | Konsumentoverskudd: | $5$ | \n",
    "        | Produsentoverskudd: | $5$ | \n",
    "        \n",
    "        \"\"\"\n",
    "display(Markdown(tbl))"
   ]
  },
  {
   "cell_type": "code",
   "execution_count": null,
   "id": "52d1a275",
   "metadata": {},
   "outputs": [],
   "source": []
  }
 ],
 "metadata": {
  "kernelspec": {
   "display_name": "Python 3 (ipykernel)",
   "language": "python",
   "name": "python3"
  },
  "language_info": {
   "codemirror_mode": {
    "name": "ipython",
    "version": 3
   },
   "file_extension": ".py",
   "mimetype": "text/x-python",
   "name": "python",
   "nbconvert_exporter": "python",
   "pygments_lexer": "ipython3",
   "version": "3.8.10"
  }
 },
 "nbformat": 4,
 "nbformat_minor": 5
}
