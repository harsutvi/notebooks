{
 "cells": [
  {
   "cell_type": "markdown",
   "id": "ca6dc8a9-1111-4486-b099-265070a6fbbf",
   "metadata": {},
   "source": [
    "# 12 - interaktive kart"
   ]
  },
  {
   "cell_type": "markdown",
   "id": "893798f3-21f2-48ef-882a-25f5d2011d78",
   "metadata": {},
   "source": [
    "Kommer ..."
   ]
  }
 ],
 "metadata": {
  "kernelspec": {
   "display_name": "Python 3 (ipykernel)",
   "language": "python",
   "name": "python3"
  },
  "language_info": {
   "codemirror_mode": {
    "name": "ipython",
    "version": 3
   },
   "file_extension": ".py",
   "mimetype": "text/x-python",
   "name": "python",
   "nbconvert_exporter": "python",
   "pygments_lexer": "ipython3",
   "version": "3.8.10"
  }
 },
 "nbformat": 4,
 "nbformat_minor": 5
}
