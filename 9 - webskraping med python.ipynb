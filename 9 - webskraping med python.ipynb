{
 "cells": [
  {
   "cell_type": "markdown",
   "id": "3303bb9e-a60c-4a8b-a191-60c16eefc274",
   "metadata": {},
   "source": [
    "# 9 - webskraping med python"
   ]
  },
  {
   "cell_type": "markdown",
   "id": "7e208de8-e45e-49eb-967d-d24b8f331543",
   "metadata": {},
   "source": [
    "Kommer ..."
   ]
  }
 ],
 "metadata": {
  "kernelspec": {
   "display_name": "Python 3 (ipykernel)",
   "language": "python",
   "name": "python3"
  },
  "language_info": {
   "codemirror_mode": {
    "name": "ipython",
    "version": 3
   },
   "file_extension": ".py",
   "mimetype": "text/x-python",
   "name": "python",
   "nbconvert_exporter": "python",
   "pygments_lexer": "ipython3",
   "version": "3.8.10"
  }
 },
 "nbformat": 4,
 "nbformat_minor": 5
}
