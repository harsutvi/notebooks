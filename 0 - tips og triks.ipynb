{
 "cells": [
  {
   "cell_type": "markdown",
   "id": "38a2f34a-5626-4dad-8035-2146dfce574c",
   "metadata": {},
   "source": [
    "# Tips og triks:\n",
    "\n",
    "## 1. Navigere i mappestrukturen med *Terminal*:\n",
    "\n",
    "1. Gå til jupyter.uit.no, trykk på \"+\" dersom \"launcher\"-fanen ikke er oppe, og trykk på \"Terminal\"\n",
    "2. For å navigere til en bestemt mappe:\n",
    "```\n",
    "cd <mappenavn>\n",
    "```\n",
    "der du bytter ut \\<mappenavn\\> med mappen du vil navigere til\n",
    "    \n",
    "3. For å navigere opp ett nivå i mappestrukturen:\n",
    "```\n",
    "cd ..\n",
    "```"
   ]
  },
  {
   "cell_type": "markdown",
   "id": "c160dc16-56ea-4274-af39-f667b7e48942",
   "metadata": {},
   "source": [
    "## 2. Klone dette repositoriet: \n",
    "```\n",
    "git clone https://github.com/uit-sok-1003-h21/notebooks/\n",
    "```    \n",
    " "
   ]
  },
  {
   "cell_type": "markdown",
   "id": "36488b23-4691-40a5-844a-c6b1ec0c2f4f",
   "metadata": {},
   "source": [
    "## 3. Starte Jupyter i bestemt mappe ('D:/myfiles' i dette tilfellet): \n",
    "```\n",
    "jupyter notebook --notebook-dir=D:/myfiles\n",
    "```        \n",
    " "
   ]
  },
  {
   "cell_type": "markdown",
   "id": "8adeb8f5-d332-4245-b1c7-f59dc68db065",
   "metadata": {},
   "source": [
    "## 4. commit: \n",
    "```\n",
    "git add .\n",
    "git commit -m \"text\"\n",
    "```   \n",
    " "
   ]
  },
  {
   "cell_type": "markdown",
   "id": "95cdcfd7-0092-43b1-9f62-43727c944d87",
   "metadata": {},
   "source": [
    "## 5. push: \n",
    "```  \n",
    "git push\n",
    "```\n",
    " "
   ]
  },
  {
   "cell_type": "markdown",
   "id": "8003342d-f48d-4565-8769-8a381d4490b2",
   "metadata": {},
   "source": [
    "## 6. pull: \n",
    "```     \n",
    "git pull\n",
    "```\n",
    "1. Om filer er endret, og du ønsker å overskrive endringene:\n",
    "```\n",
    "git reset --hard\n",
    "git pull\n",
    "```\n",
    "\n",
    "2. Om filer er endret, og du ønsker å overskrive endringene, men også ta vare på endringer.\n",
    "```\n",
    "git stash\n",
    "```  \n",
    " "
   ]
  },
  {
   "cell_type": "markdown",
   "id": "d7285476-da60-4569-83e7-f9f9cede3e79",
   "metadata": {},
   "source": [
    "## 7. Lage git-repositorie:\n",
    "[Se her for en forklaring på hvordan du skal levere arbeidskrav på github](https://uit-sok-1003-h21.github.io/github.html)\n",
    "\n",
    "1. Lag en githubkonto (du trenger ikke bruke din uit-mail, det er valgfritt)\n",
    "2. Logg på `jupyter.uit.no`, og åpne ny Terminal (+), og naviger dit du vil ha repositoriet på jupyter med `cd <mappenavn>`.\n",
    "3. Konfigurer git med e-posten til kontoen og ditt brukernavn (bytt ut klammeparentesene med e-posten og brukernavnet til githubkontoen):\n",
    "```\n",
    "git config --global user.email \"<e-post>\"\n",
    "git config --global user.name \"<brukernavn>\"\n",
    "```\n",
    "4. Gå til **Repositories**, trykk **New**, gi repositoriet et navn og velg **Private** eller **Public**. \n",
    "5. Hold denne fanen åpen, for du skal bruke html-adressen til denne siden.\n",
    "6. Sørg for at du har et token. Gå eventuelt til https://github.com/settings/tokens/new for å generere nytt token. *Hold fanen åpen for å ha tokenet tilgjengelig.*\n",
    "7. kjør `git clone https://<token>@github.com/<sti>` der \\<token\\> er tokenet er det du fikk i 6. og \\<sti\\> er det som kommer etter **github.com/**  i html-adressen i 5.\n",
    "\n",
    " Du kan nå redigere repositoriet ditt\n",
    " \n",
    " "
   ]
  },
  {
   "cell_type": "markdown",
   "id": "80919cd6-23d6-408e-b4fe-689390b98d39",
   "metadata": {},
   "source": [
    "## 8. Dytte repositoriet til github:\n",
    "1. Naviger til repositoriemappen i Terminal (se avsnitt 1.)\n",
    "2. Kjør i Terminal:\n",
    "```\n",
    "git add .\n",
    "git commit -m \"New repository\"\n",
    "git push \n",
    "```\n",
    "\n",
    "Dersom du får en rettighetsfeil kan du forsøke å legge inn, etter `git push`, nettadressen som beskrevet i pkt. 7.7 over. \n",
    "      \n",
    "      \n",
    " \n",
    " "
   ]
  },
  {
   "cell_type": "markdown",
   "id": "7e745d84-df5c-422c-a517-569bbac60ee4",
   "metadata": {},
   "source": [
    "## 9. Installere stavekontroll for i lokal Jupyter notebook:\n",
    "```\n",
    "pip install jupyter_contrib_nbextensions\n",
    "jupyter contrib nbextension install --user\n",
    "jupyter nbextension enable spellchecker/main\n",
    "```\n",
    " \n",
    "For å installere norsk stavekontroll:\n",
    "1. gå til https://jupyter-contrib-nbextensions.readthedocs.io/en/latest/nbextensions/spellchecker/README.html\n",
    "2. kjør\n",
    " \n",
    "```\n",
    "from jupyter_core.paths import jupyter_data_dir\n",
    "jupyter_data_dir()\n",
    "```\n",
    " \n",
    "Resultatet viser stien nenvnt i lenken over. \n",
    "3. Lag en mappe `dictionaries` under `spellchecker` i ovvenenvnte sti.\n",
    "4. Kopier [nb_NO.aff](./dictionaries/nb_NO.aff) og [nb_NO.dic](./dictionaries/nb_NO.dic) fra `/instructions/dictionaries` mappen i dette repositoriet til mappen du nettopp laget.\n",
    "5. Kopier koden fra nettsiden over til en notebook, bytt ut de_DE med nb_NO, og kjør det.\n",
    "        "
   ]
  },
  {
   "cell_type": "markdown",
   "id": "611fe537-a3a9-46bf-83af-c5ccd3d96743",
   "metadata": {},
   "source": [
    "## 10. Fjerne en mappe og alt dets innhold (FARLIG!)\n",
    "\n",
    "Dersom en mappe har innhold som er vanskelig å fjerne, slik som et git-repositorie, kan det være du må da kjøre en kommando i Terminal for å fjerne mappen. Du må da kjøre en kommando i Terminal for å fjerne mappen. For å fjerne en mappe og alt innholdet, navigerer du til mappen over (se 3.), slik at om du kjører `dir` så ser du navnet på mappen (samme med eventuelt andre filer og mapper). Du kjører så\n",
    "```\n",
    "rm -r <navn på mappe du vil ha fjernet>\n",
    "```\n",
    "Bytt ut ´<navn på mappe du vil ha fjernet>´ med mappen du vil slette. \n",
    "\n",
    "MERK at dette sletter mappen FOR EVIG OG ALLTID! Den kan ikke gjenoprettes, så VÆR HELT SIKKER før du gjør dette. Du må være HELT sikker på hvor du er i mappestrukturen i terminal, slik at du ikke sletter noe uforvarende. \n",
    "\n",
    "Når du har kjørt kommandoen, vil du få gjentatte spørsmål om du vil slette hver enkelt fil. Trykk `y` og Enter på hvert spørsmål. "
   ]
  },
  {
   "cell_type": "code",
   "execution_count": null,
   "id": "3d57a67a-d8ce-4be5-b84b-5eee445645f9",
   "metadata": {},
   "outputs": [],
   "source": []
  }
 ],
 "metadata": {
  "kernelspec": {
   "display_name": "Python 3 (ipykernel)",
   "language": "python",
   "name": "python3"
  },
  "language_info": {
   "codemirror_mode": {
    "name": "ipython",
    "version": 3
   },
   "file_extension": ".py",
   "mimetype": "text/x-python",
   "name": "python",
   "nbconvert_exporter": "python",
   "pygments_lexer": "ipython3",
   "version": "3.8.10"
  }
 },
 "nbformat": 4,
 "nbformat_minor": 5
}
