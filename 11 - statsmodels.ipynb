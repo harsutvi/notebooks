{
 "cells": [
  {
   "cell_type": "markdown",
   "id": "04881547-09d6-4a87-bc4a-47b56c014d94",
   "metadata": {},
   "source": [
    "# 11 - statsmodels"
   ]
  },
  {
   "cell_type": "markdown",
   "id": "76966442-6088-4a4a-b305-100fff557585",
   "metadata": {},
   "source": [
    "Kommer ..."
   ]
  }
 ],
 "metadata": {
  "kernelspec": {
   "display_name": "Python 3 (ipykernel)",
   "language": "python",
   "name": "python3"
  },
  "language_info": {
   "codemirror_mode": {
    "name": "ipython",
    "version": 3
   },
   "file_extension": ".py",
   "mimetype": "text/x-python",
   "name": "python",
   "nbconvert_exporter": "python",
   "pygments_lexer": "ipython3",
   "version": "3.8.10"
  }
 },
 "nbformat": 4,
 "nbformat_minor": 5
}
