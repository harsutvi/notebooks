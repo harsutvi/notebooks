{
 "cells": [
  {
   "cell_type": "markdown",
   "id": "9a9a336d-1132-417a-a83e-5fb8df1e78b2",
   "metadata": {},
   "source": [
    "# Installere Python, git og Jupyter på Windows"
   ]
  },
  {
   "cell_type": "markdown",
   "id": "a771bb6c-f173-4fcc-8615-d8899847fb5a",
   "metadata": {},
   "source": [
    "\n",
    "[Se video her!](https://mediasite.uit.no/Mediasite/Play/636342e259e441ffa5776b2ec3ebf29c1d)\n",
    "\n",
    "<a href=\"https://www.python.org/downloads/\"><img align=\"right\" src=\"img/python-logo2.png\" style=\"padding:20px;\"></a>\n",
    "\n",
    "## 1. Installere python 3.8.10\n",
    "\n",
    "1. Gå til [installasjonssiden](https://www.python.org/downloads/) og last ned\n",
    "4. Installer for alle brukere (krever elevering/admin login) og **hak av for å legge til \"PATH\"**. \n",
    "    \n",
    "(Jeg har endret litt på \"oppskriften\" etter at videoen ble spilt inn)\n",
    "\n",
    "## 2. Installere git\n",
    "\n",
    "1. Gå til [installasjonsiden for git](https://git-scm.com/downloads){:target=\"blank\"}\n",
    "4. Last ned for windows og installer for alle brukere (krever elevering/admin login)\n",
    "  \n",
    "## 3. Installere Jupyter lab\n",
    "\n",
    "1. åpne kommandovinduet: Skriv \"cmd\" i søkefeltet på maskinen, HØYREKLIKK og start \"Command Promt\"/\"Ledetekst\" SOM ADMIN. \n",
    "2. Skriv inn `pip install jupyterlab`\n",
    "\n",
    "## 4. Hente kursmateriell fra github\n",
    "\n",
    "For å hente filene til Jupyter  åpner du kommanovinduet på nytt, men denne gangen UTEN Å HØYREKLIKKET, siden du nå skal arbeidet på ditt hjemmeområde. Videre gjør du slik:\n",
    "\n",
    "2. Lag en ny mappe på ditt hjemmeområde ved å skrive inn i terminalvinduet\n",
    "\n",
    "```mkdir sok-1003```\n",
    "\n",
    "3. Gå så inn i den mappen du har laget ved å skrive \n",
    "\n",
    "```cd sok-1003```\n",
    "        \n",
    "4. Last ned kursmateriellet ved å kopiere inn følgende kommando i kommandovinduet: \n",
    "\n",
    "```git clone https://github.com/espensirnes/notebooks/```\n",
    "        \n",
    "5. Filene på github kommer til å endres, og da må du oppdatere dem. Det kan derfor være lurt å ha en \n",
    "kopi av notebooks-folderen hvor du kan gjøre egne endringer som ikke overskrives når du henter oppdaterte notater.For å lage en slik kopi skriver du:\n",
    "        \n",
    "```xcopy notebooks notebooks_edit```\n",
    "        \n",
    "6. For å åpne filene i \"notebooks_edit\"-mappen i jupyter lab skriver du\n",
    "```\n",
    "cd notebooks_edit\n",
    "jupyter lab\n",
    "```\n"
   ]
  },
  {
   "cell_type": "markdown",
   "id": "902f628e-a081-403b-a189-dca5a219eb68",
   "metadata": {},
   "source": [
    "# Installere Python, git og Jupyter på Mac"
   ]
  },
  {
   "cell_type": "markdown",
   "id": "26887413-0e58-4634-b66c-d1b63a58e241",
   "metadata": {},
   "source": [
    "<a href=\"https://www.python.org/downloads/\"><img align=\"right\" src=\"img/python-logo2.png\" style=\"padding:20px;\"></a>\n",
    "\n",
    "## 1. Installere python\n",
    "\n",
    "Gå til [https://www.python.org/downloads/](https://www.python.org/downloads/)\n",
    " \n",
    "## 2. Installere git\n",
    "\n",
    "[Se her hvordan du installerer git](https://git-scm.com/book/en/v2/Getting-Started-Installing-Git)\n",
    "\n",
    "## 3. Installere Jupyter lab\n",
    "\n",
    "1. åpne kommandovinduet: Åpne finder og skriv \"terminal\" i søkefeltet og åne terminal. \n",
    "2. Skriv inn \"sodu -H pip3 install jupyterlab\" (\"sodu -H\" er for å installere det som admin, slik at du kan åpne jupyter med kommandoen \"jupyter\")\n",
    "3. Skriv inn passord\n",
    "\n",
    "## 4. Hente kursmateriell fra github\n",
    "\n",
    "For å hente filene til Jupyter gjør du slik:\n",
    "\n",
    "2. Lag en ny mappe på ditt hjemmeområde ved å skrive inn i terminalvinduet\n",
    "\n",
    "```mkdir sok-1003```\n",
    "\n",
    "3. Gå så inn i den mappen du har laget ved å skrive \n",
    "\n",
    "```cd sok-1003```\n",
    "        \n",
    "4. Last ned kursmateriellet ved å kopiere inn følgende kommando i kommandovinduet: \n",
    "\n",
    "```git clone https://github.com/uit-sok-1003-h21/notebooks/```\n",
    "        \n",
    "5. Filene på github kommer til å endres, og da må du oppdatere dem. Det kan derfor være lurt å ha en \n",
    "kopi av notebooks-folderen hvor du kan gjøre egne endringer som ikke overskrives når du henter oppdaterte notater.For å lage en slik kopi skriver du:\n",
    "        \n",
    "```cp -r notebooks notebooks_edit```\n",
    "        \n",
    "6. For å åpne filene i \"notebooks_edit\"-mappen i jupyter lab skriver du\n",
    "```\n",
    "cd notebooks_edit\n",
    "jupyter lab\n",
    "```\n"
   ]
  }
 ],
 "metadata": {
  "kernelspec": {
   "display_name": "Python 3 (ipykernel)",
   "language": "python",
   "name": "python3"
  },
  "language_info": {
   "codemirror_mode": {
    "name": "ipython",
    "version": 3
   },
   "file_extension": ".py",
   "mimetype": "text/x-python",
   "name": "python",
   "nbconvert_exporter": "python",
   "pygments_lexer": "ipython3",
   "version": "3.8.10"
  }
 },
 "nbformat": 4,
 "nbformat_minor": 5
}
