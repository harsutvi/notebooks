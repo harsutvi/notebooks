{
 "cells": [
  {
   "cell_type": "markdown",
   "id": "13017941",
   "metadata": {},
   "source": [
    "##### [< Forrige](9%20-%20webskraping%20med%20python.ipynb)     |     [Neste >](11%20-%20interaktive%20websider.ipynb#Interaktivt-kart)"
   ]
  },
  {
   "cell_type": "markdown",
   "id": "04881547-09d6-4a87-bc4a-47b56c014d94",
   "metadata": {},
   "source": [
    "# 10 - statsmodels"
   ]
  },
  {
   "cell_type": "markdown",
   "id": "76966442-6088-4a4a-b305-100fff557585",
   "metadata": {},
   "source": [
    "Vi bruker vanligvis R til økonometri og statistikk. Med mindre du skal gjøre noe veldig avansert, inneholder imidlertid `statsmodels`-pakken det du trenger for å kjøre en lang rekke statistiske analyser. I denne forelesningen skal vi imidlertid kun se på den enkleste typen regresjon; Minste Kvadraters Metode (Ordinary Least Squares), eller OLS som vi vanligvis kaller det. \n",
    "\n",
    "For å bruke `statsmodels` må vi ha et datasett. Vi skal bruke et datasett som har vært [brukt på pr-siden](https://titlon.uit.no/hht/index.php?page=1) til dette studieprogrammet, nemlig et datasett fra [gapminder.com](https://www.gapminder.org/answers/how-does-income-relate-to-life-expectancy/). Datasettet viser sammenhengen mellom BNP og forventet levealder på en illustrerende måte. \n",
    "\n",
    "Vi begynner med å laste inn datasettet fra [https://titlon.uit.no/hht/data/gapminder.csv](https://titlon.uit.no/hht/data/gapminder.csv):"
   ]
  },
  {
   "cell_type": "code",
   "execution_count": 1,
   "id": "0e92b844",
   "metadata": {
    "scrolled": true
   },
   "outputs": [
    {
     "data": {
      "text/html": [
       "<div>\n",
       "<style scoped>\n",
       "    .dataframe tbody tr th:only-of-type {\n",
       "        vertical-align: middle;\n",
       "    }\n",
       "\n",
       "    .dataframe tbody tr th {\n",
       "        vertical-align: top;\n",
       "    }\n",
       "\n",
       "    .dataframe thead th {\n",
       "        text-align: right;\n",
       "    }\n",
       "</style>\n",
       "<table border=\"1\" class=\"dataframe\">\n",
       "  <thead>\n",
       "    <tr style=\"text-align: right;\">\n",
       "      <th></th>\n",
       "      <th>Unnamed: 0</th>\n",
       "      <th>country</th>\n",
       "      <th>year</th>\n",
       "      <th>population</th>\n",
       "      <th>continent</th>\n",
       "      <th>life_exp</th>\n",
       "      <th>gdp_cap</th>\n",
       "    </tr>\n",
       "  </thead>\n",
       "  <tbody>\n",
       "    <tr>\n",
       "      <th>0</th>\n",
       "      <td>11</td>\n",
       "      <td>Afghanistan</td>\n",
       "      <td>2007</td>\n",
       "      <td>31889923</td>\n",
       "      <td>Asia</td>\n",
       "      <td>43.828</td>\n",
       "      <td>974.580338</td>\n",
       "    </tr>\n",
       "    <tr>\n",
       "      <th>1</th>\n",
       "      <td>23</td>\n",
       "      <td>Albania</td>\n",
       "      <td>2007</td>\n",
       "      <td>3600523</td>\n",
       "      <td>Europe</td>\n",
       "      <td>76.423</td>\n",
       "      <td>5937.029526</td>\n",
       "    </tr>\n",
       "    <tr>\n",
       "      <th>2</th>\n",
       "      <td>35</td>\n",
       "      <td>Algeria</td>\n",
       "      <td>2007</td>\n",
       "      <td>33333216</td>\n",
       "      <td>Africa</td>\n",
       "      <td>72.301</td>\n",
       "      <td>6223.367465</td>\n",
       "    </tr>\n",
       "    <tr>\n",
       "      <th>3</th>\n",
       "      <td>47</td>\n",
       "      <td>Angola</td>\n",
       "      <td>2007</td>\n",
       "      <td>12420476</td>\n",
       "      <td>Africa</td>\n",
       "      <td>42.731</td>\n",
       "      <td>4797.231267</td>\n",
       "    </tr>\n",
       "    <tr>\n",
       "      <th>4</th>\n",
       "      <td>59</td>\n",
       "      <td>Argentina</td>\n",
       "      <td>2007</td>\n",
       "      <td>40301927</td>\n",
       "      <td>Americas</td>\n",
       "      <td>75.320</td>\n",
       "      <td>12779.379640</td>\n",
       "    </tr>\n",
       "    <tr>\n",
       "      <th>...</th>\n",
       "      <td>...</td>\n",
       "      <td>...</td>\n",
       "      <td>...</td>\n",
       "      <td>...</td>\n",
       "      <td>...</td>\n",
       "      <td>...</td>\n",
       "      <td>...</td>\n",
       "    </tr>\n",
       "    <tr>\n",
       "      <th>137</th>\n",
       "      <td>1655</td>\n",
       "      <td>Vietnam</td>\n",
       "      <td>2007</td>\n",
       "      <td>85262356</td>\n",
       "      <td>Asia</td>\n",
       "      <td>74.249</td>\n",
       "      <td>2441.576404</td>\n",
       "    </tr>\n",
       "    <tr>\n",
       "      <th>138</th>\n",
       "      <td>1667</td>\n",
       "      <td>West Bank and Gaza</td>\n",
       "      <td>2007</td>\n",
       "      <td>4018332</td>\n",
       "      <td>Asia</td>\n",
       "      <td>73.422</td>\n",
       "      <td>3025.349798</td>\n",
       "    </tr>\n",
       "    <tr>\n",
       "      <th>139</th>\n",
       "      <td>1679</td>\n",
       "      <td>Yemen, Rep.</td>\n",
       "      <td>2007</td>\n",
       "      <td>22211743</td>\n",
       "      <td>Asia</td>\n",
       "      <td>62.698</td>\n",
       "      <td>2280.769906</td>\n",
       "    </tr>\n",
       "    <tr>\n",
       "      <th>140</th>\n",
       "      <td>1691</td>\n",
       "      <td>Zambia</td>\n",
       "      <td>2007</td>\n",
       "      <td>11746035</td>\n",
       "      <td>Africa</td>\n",
       "      <td>42.384</td>\n",
       "      <td>1271.211593</td>\n",
       "    </tr>\n",
       "    <tr>\n",
       "      <th>141</th>\n",
       "      <td>1703</td>\n",
       "      <td>Zimbabwe</td>\n",
       "      <td>2007</td>\n",
       "      <td>12311143</td>\n",
       "      <td>Africa</td>\n",
       "      <td>43.487</td>\n",
       "      <td>469.709298</td>\n",
       "    </tr>\n",
       "  </tbody>\n",
       "</table>\n",
       "<p>142 rows × 7 columns</p>\n",
       "</div>"
      ],
      "text/plain": [
       "     Unnamed: 0             country  year  population continent  life_exp  \\\n",
       "0            11         Afghanistan  2007    31889923      Asia    43.828   \n",
       "1            23             Albania  2007     3600523    Europe    76.423   \n",
       "2            35             Algeria  2007    33333216    Africa    72.301   \n",
       "3            47              Angola  2007    12420476    Africa    42.731   \n",
       "4            59           Argentina  2007    40301927  Americas    75.320   \n",
       "..          ...                 ...   ...         ...       ...       ...   \n",
       "137        1655             Vietnam  2007    85262356      Asia    74.249   \n",
       "138        1667  West Bank and Gaza  2007     4018332      Asia    73.422   \n",
       "139        1679         Yemen, Rep.  2007    22211743      Asia    62.698   \n",
       "140        1691              Zambia  2007    11746035    Africa    42.384   \n",
       "141        1703            Zimbabwe  2007    12311143    Africa    43.487   \n",
       "\n",
       "          gdp_cap  \n",
       "0      974.580338  \n",
       "1     5937.029526  \n",
       "2     6223.367465  \n",
       "3     4797.231267  \n",
       "4    12779.379640  \n",
       "..            ...  \n",
       "137   2441.576404  \n",
       "138   3025.349798  \n",
       "139   2280.769906  \n",
       "140   1271.211593  \n",
       "141    469.709298  \n",
       "\n",
       "[142 rows x 7 columns]"
      ]
     },
     "execution_count": 1,
     "metadata": {},
     "output_type": "execute_result"
    }
   ],
   "source": [
    "import pandas as pd\n",
    "g = pd.read_csv(\"https://titlon.uit.no/hht/data/gapminder.csv\")#reading data\n",
    "g"
   ]
  },
  {
   "cell_type": "markdown",
   "id": "19cb14bf",
   "metadata": {},
   "source": [
    "Vi plotter så forventet antall leveår mot produksjon (BNP) per innbyger, slik vi har lært i [3 -matplotlib](https://espensirnes.github.io/notebooks/html/3%20-%20matplotlib.html):"
   ]
  },
  {
   "cell_type": "code",
   "execution_count": 2,
   "id": "b3081976",
   "metadata": {},
   "outputs": [
    {
     "data": {
      "text/plain": [
       "<matplotlib.legend.Legend at 0x1c0280be880>"
      ]
     },
     "execution_count": 2,
     "metadata": {},
     "output_type": "execute_result"
    },
    {
     "data": {
      "image/png": "[encoded data removed]",
      "text/plain": [
       "<Figure size 432x288 with 1 Axes>"
      ]
     },
     "metadata": {
      "needs_background": "light"
     },
     "output_type": "display_data"
    }
   ],
   "source": [
    "from matplotlib import pyplot as plt\n",
    "\n",
    "fig,ax=plt.subplots()\n",
    "\n",
    "#adding axis lables:\n",
    "ax.set_ylabel('Forventet antall leveår')\n",
    "ax.set_xlabel('BNP per innbygger')\n",
    "\n",
    "#plotting the function:\n",
    "ax.scatter(g['gdp_cap'], g['life_exp'],  label='Observasjoner')\n",
    "ax.legend(loc='lower right',frameon=False)"
   ]
  },
  {
   "cell_type": "markdown",
   "id": "e8819cd4",
   "metadata": {},
   "source": [
    "Grafisk ser det ut til at forventet levealder øker mye for lavt BNP per innbygger. Det tyder på at det er den prosentvise økningen i BNP som er avgjørende. Altså at en økning i inntekt fra for eksempel hunder kroner dagen til to hundre kroner, har en mye større effekt enn en økning fra kr 2 000 til kr 2 100. Ved å konvertere bnp til log blir den prosentvise økningen konstant langs x-aksen:"
   ]
  },
  {
   "cell_type": "code",
   "execution_count": 3,
   "id": "b21383cd",
   "metadata": {},
   "outputs": [
    {
     "data": {
      "text/plain": [
       "<matplotlib.legend.Legend at 0x1c02a1bc220>"
      ]
     },
     "execution_count": 3,
     "metadata": {},
     "output_type": "execute_result"
    },
    {
     "data": {
      "image/png": "[encoded data removed]",
      "text/plain": [
       "<Figure size 432x288 with 1 Axes>"
      ]
     },
     "metadata": {
      "needs_background": "light"
     },
     "output_type": "display_data"
    }
   ],
   "source": [
    "import numpy as np\n",
    "\n",
    "fig,ax=plt.subplots()\n",
    "\n",
    "#adding axis lables:\n",
    "ax.set_ylabel('Forventet antall leveår')\n",
    "ax.set_xlabel('BNP per innbygger')\n",
    "\n",
    "#plotting the function:\n",
    "ax.scatter(np.log(g['gdp_cap']), g['life_exp'],  label='Observasjoner')\n",
    "ax.legend(loc='lower right',frameon=False)"
   ]
  },
  {
   "cell_type": "markdown",
   "id": "fa6c8a06",
   "metadata": {},
   "source": [
    "Vi ser at vi nå får en penere spredning, og det ser ut til å være en sammenheng. Vi skal nå forsøke å tegne en \"regessjonslinje\" blant prikkene som er slik at avstanden til prikkene er så liten som mulig, i gjennomsnitt. Det er denne metoden som kalles \"Minste Kvadraters Metode\" eller \"Oridnary Least Squares\" (OLS), og går ut på å finne den linjen som er slik at summert kvadratet av den vertikale avstanden til alle prikkene, minimeres. \n",
    "\n",
    "Vi skal ikke gå så nøye inn på matematikken her, men poenget er altså å finne en linje som passer så godt som mulig til dataene. \n",
    "\n",
    "La oss først sørge for at vi har dataene organisert riktig. Vi må først definere y-variablen (vertikal akse) og x-variablene (horisontal akse). Det er ikke sikkert at linjen vi skal tegne bør krysse akkurat i \"origo\", der x og y-aksene krysser hverandre. Det er tvert i mot lite sannsynlig. Vi må derfor ha med et konstantledd, som angir hvor på y-aksen linjen skal krysse. \n",
    "\n",
    "Vi legger til et konstantledd ved å definere en variabel `'intercept'` lik 1. Linjen vi skal forsøke å finne er gitt ved\n",
    "\n",
    "$\\alpha+\\beta \\cdot x$\n",
    "\n",
    "Vi skal altså forsøke å finne $\\alpha$ og $\\beta$ som passer best til de observerte kombinasjonene av x og y. y er forventet antall leveår:"
   ]
  },
  {
   "cell_type": "code",
   "execution_count": 4,
   "id": "cbb0bf1e",
   "metadata": {},
   "outputs": [
    {
     "data": {
      "text/html": [
       "<div>\n",
       "<style scoped>\n",
       "    .dataframe tbody tr th:only-of-type {\n",
       "        vertical-align: middle;\n",
       "    }\n",
       "\n",
       "    .dataframe tbody tr th {\n",
       "        vertical-align: top;\n",
       "    }\n",
       "\n",
       "    .dataframe thead th {\n",
       "        text-align: right;\n",
       "    }\n",
       "</style>\n",
       "<table border=\"1\" class=\"dataframe\">\n",
       "  <thead>\n",
       "    <tr style=\"text-align: right;\">\n",
       "      <th></th>\n",
       "      <th>life_exp</th>\n",
       "    </tr>\n",
       "  </thead>\n",
       "  <tbody>\n",
       "    <tr>\n",
       "      <th>0</th>\n",
       "      <td>43.828</td>\n",
       "    </tr>\n",
       "    <tr>\n",
       "      <th>1</th>\n",
       "      <td>76.423</td>\n",
       "    </tr>\n",
       "    <tr>\n",
       "      <th>2</th>\n",
       "      <td>72.301</td>\n",
       "    </tr>\n",
       "    <tr>\n",
       "      <th>3</th>\n",
       "      <td>42.731</td>\n",
       "    </tr>\n",
       "    <tr>\n",
       "      <th>4</th>\n",
       "      <td>75.320</td>\n",
       "    </tr>\n",
       "    <tr>\n",
       "      <th>...</th>\n",
       "      <td>...</td>\n",
       "    </tr>\n",
       "    <tr>\n",
       "      <th>137</th>\n",
       "      <td>74.249</td>\n",
       "    </tr>\n",
       "    <tr>\n",
       "      <th>138</th>\n",
       "      <td>73.422</td>\n",
       "    </tr>\n",
       "    <tr>\n",
       "      <th>139</th>\n",
       "      <td>62.698</td>\n",
       "    </tr>\n",
       "    <tr>\n",
       "      <th>140</th>\n",
       "      <td>42.384</td>\n",
       "    </tr>\n",
       "    <tr>\n",
       "      <th>141</th>\n",
       "      <td>43.487</td>\n",
       "    </tr>\n",
       "  </tbody>\n",
       "</table>\n",
       "<p>142 rows × 1 columns</p>\n",
       "</div>"
      ],
      "text/plain": [
       "     life_exp\n",
       "0      43.828\n",
       "1      76.423\n",
       "2      72.301\n",
       "3      42.731\n",
       "4      75.320\n",
       "..        ...\n",
       "137    74.249\n",
       "138    73.422\n",
       "139    62.698\n",
       "140    42.384\n",
       "141    43.487\n",
       "\n",
       "[142 rows x 1 columns]"
      ]
     },
     "execution_count": 4,
     "metadata": {},
     "output_type": "execute_result"
    }
   ],
   "source": [
    "y=g['life_exp']\n",
    "pd.DataFrame(y)"
   ]
  },
  {
   "cell_type": "markdown",
   "id": "e602f42b",
   "metadata": {},
   "source": [
    "... og x er BNP per capita og konstantleddet som alltid er 1:"
   ]
  },
  {
   "cell_type": "code",
   "execution_count": 5,
   "id": "54da0621",
   "metadata": {},
   "outputs": [
    {
     "data": {
      "text/html": [
       "<div>\n",
       "<style scoped>\n",
       "    .dataframe tbody tr th:only-of-type {\n",
       "        vertical-align: middle;\n",
       "    }\n",
       "\n",
       "    .dataframe tbody tr th {\n",
       "        vertical-align: top;\n",
       "    }\n",
       "\n",
       "    .dataframe thead th {\n",
       "        text-align: right;\n",
       "    }\n",
       "</style>\n",
       "<table border=\"1\" class=\"dataframe\">\n",
       "  <thead>\n",
       "    <tr style=\"text-align: right;\">\n",
       "      <th></th>\n",
       "      <th>gdp_cap</th>\n",
       "      <th>intercept</th>\n",
       "    </tr>\n",
       "  </thead>\n",
       "  <tbody>\n",
       "    <tr>\n",
       "      <th>0</th>\n",
       "      <td>6.882007</td>\n",
       "      <td>1</td>\n",
       "    </tr>\n",
       "    <tr>\n",
       "      <th>1</th>\n",
       "      <td>8.688964</td>\n",
       "      <td>1</td>\n",
       "    </tr>\n",
       "    <tr>\n",
       "      <th>2</th>\n",
       "      <td>8.736066</td>\n",
       "      <td>1</td>\n",
       "    </tr>\n",
       "    <tr>\n",
       "      <th>3</th>\n",
       "      <td>8.475794</td>\n",
       "      <td>1</td>\n",
       "    </tr>\n",
       "    <tr>\n",
       "      <th>4</th>\n",
       "      <td>9.455588</td>\n",
       "      <td>1</td>\n",
       "    </tr>\n",
       "    <tr>\n",
       "      <th>...</th>\n",
       "      <td>...</td>\n",
       "      <td>...</td>\n",
       "    </tr>\n",
       "    <tr>\n",
       "      <th>137</th>\n",
       "      <td>7.800399</td>\n",
       "      <td>1</td>\n",
       "    </tr>\n",
       "    <tr>\n",
       "      <th>138</th>\n",
       "      <td>8.014782</td>\n",
       "      <td>1</td>\n",
       "    </tr>\n",
       "    <tr>\n",
       "      <th>139</th>\n",
       "      <td>7.732268</td>\n",
       "      <td>1</td>\n",
       "    </tr>\n",
       "    <tr>\n",
       "      <th>140</th>\n",
       "      <td>7.147726</td>\n",
       "      <td>1</td>\n",
       "    </tr>\n",
       "    <tr>\n",
       "      <th>141</th>\n",
       "      <td>6.152114</td>\n",
       "      <td>1</td>\n",
       "    </tr>\n",
       "  </tbody>\n",
       "</table>\n",
       "<p>142 rows × 2 columns</p>\n",
       "</div>"
      ],
      "text/plain": [
       "      gdp_cap  intercept\n",
       "0    6.882007          1\n",
       "1    8.688964          1\n",
       "2    8.736066          1\n",
       "3    8.475794          1\n",
       "4    9.455588          1\n",
       "..        ...        ...\n",
       "137  7.800399          1\n",
       "138  8.014782          1\n",
       "139  7.732268          1\n",
       "140  7.147726          1\n",
       "141  6.152114          1\n",
       "\n",
       "[142 rows x 2 columns]"
      ]
     },
     "execution_count": 5,
     "metadata": {},
     "output_type": "execute_result"
    }
   ],
   "source": [
    "x=pd.DataFrame(np.log(g['gdp_cap']))\n",
    "x['intercept']=1\n",
    "x"
   ]
  },
  {
   "cell_type": "markdown",
   "id": "e24415bb",
   "metadata": {},
   "source": [
    "Vi kan nå estimere hvilke koefisienter $\\alpha$ og $\\beta$ som passer best til dataene. Da bruker vi `OLS` fra `statsmodels`og sette inn y og x: \n",
    "\n",
    "#### Eksempel 1:"
   ]
  },
  {
   "cell_type": "code",
   "execution_count": 7,
   "id": "fbeb8d45",
   "metadata": {},
   "outputs": [
    {
     "name": "stdout",
     "output_type": "stream",
     "text": [
      "                            OLS Regression Results                            \n",
      "==============================================================================\n",
      "Dep. Variable:               life_exp   R-squared:                       0.654\n",
      "Model:                            OLS   Adj. R-squared:                  0.652\n",
      "Method:                 Least Squares   F-statistic:                     265.2\n",
      "Date:                Wed, 02 Mar 2022   Prob (F-statistic):           4.12e-34\n",
      "Time:                        10:13:04   Log-Likelihood:                -479.26\n",
      "No. Observations:                 142   AIC:                             962.5\n",
      "Df Residuals:                     140   BIC:                             968.4\n",
      "Df Model:                           1                                         \n",
      "Covariance Type:            nonrobust                                         \n",
      "==============================================================================\n",
      "                 coef    std err          t      P>|t|      [0.025      0.975]\n",
      "------------------------------------------------------------------------------\n",
      "gdp_cap        7.2028      0.442     16.283      0.000       6.328       8.077\n",
      "intercept      4.9496      3.858      1.283      0.202      -2.677      12.576\n",
      "==============================================================================\n",
      "Omnibus:                       40.647   Durbin-Watson:                   2.154\n",
      "Prob(Omnibus):                  0.000   Jarque-Bera (JB):               72.274\n",
      "Skew:                          -1.341   Prob(JB):                     2.02e-16\n",
      "Kurtosis:                       5.240   Cond. No.                         57.0\n",
      "==============================================================================\n",
      "\n",
      "Notes:\n",
      "[1] Standard Errors assume that the covariance matrix of the errors is correctly specified.\n"
     ]
    }
   ],
   "source": [
    "from statsmodels.regression.linear_model import OLS\n",
    "\n",
    "res=OLS(y,x).fit()\n",
    "\n",
    "print(res.summary())"
   ]
  },
  {
   "cell_type": "markdown",
   "id": "095e5751",
   "metadata": {},
   "source": [
    "Over ser vi resultatet av regresjonen. Det vi bør legge spesielt merke til er kolonnen under `coef`, som viser estimatene. Vi ser at $\\alpha=4.9496$ og $\\beta=7.2028$. Disse tallene er lagret i res.params:"
   ]
  },
  {
   "cell_type": "code",
   "execution_count": 8,
   "id": "db691bd7",
   "metadata": {},
   "outputs": [
    {
     "data": {
      "text/plain": [
       "gdp_cap      7.202802\n",
       "intercept    4.949612\n",
       "dtype: float64"
      ]
     },
     "execution_count": 8,
     "metadata": {},
     "output_type": "execute_result"
    }
   ],
   "source": [
    "res.params"
   ]
  },
  {
   "cell_type": "markdown",
   "id": "a4ebf57a",
   "metadata": {},
   "source": [
    "Vi kan derfor bruke `res.params` til å plotte linjen $\\alpha+\\beta \\cdot x$"
   ]
  },
  {
   "cell_type": "code",
   "execution_count": 9,
   "id": "ed8a4bfd",
   "metadata": {},
   "outputs": [
    {
     "data": {
      "image/png": "[encoded data removed]",
      "text/plain": [
       "<Figure size 432x288 with 1 Axes>"
      ]
     },
     "execution_count": 9,
     "metadata": {},
     "output_type": "execute_result"
    }
   ],
   "source": [
    "x=np.linspace(min(np.log(g['gdp_cap'])), max(np.log(g['gdp_cap'])), 100)\n",
    "\n",
    "regression_line=res.params['intercept']+res.params['gdp_cap']*x\n",
    "\n",
    "ax.plot(x, regression_line,color='red')\n",
    "fig"
   ]
  },
  {
   "cell_type": "markdown",
   "id": "a7781012",
   "metadata": {},
   "source": [
    "Vi ser at regresjonslinjen passer svært godt til dataene. Siden vi har brukt OLS vet vi at dette er den linjen som har minst avstand i gjennomsnitt til alle punktene. \"Avstand\" måles som kvadrate av den vertikale differansen. Matematisk kan vi skrive det slik:\n",
    "\n",
    "$y=\\alpha+\\beta \\cdot x+\\epsilon$\n",
    "\n",
    "der $\\alpha+\\beta \\cdot x$ er linjen og $\\epsilon$ er den vertikale avstanden til linjen."
   ]
  },
  {
   "cell_type": "markdown",
   "id": "7c6f6f99",
   "metadata": {},
   "source": [
    "## Signifikans:\n",
    "\n",
    "Det viktigste i resulatet fra regressionen i Eksempel 1 er ikke nødvendigvis koefisientene, selv om de er nødvendige for å tegne en regresionslinje. Enda viktigere er det å vite om helningen like gjerne kunne vært null. I så fall kan vi ikke konkludere med at det er noen sammenheng med variablene. Hovedpoenget med å kjøre en regression er jo vanligvis å undersøke om det er en linær sammenheng. I eksemplet over ønsker vi for eksempel å vite om det er en sammenheng mellom BNP per innbygger og antall leveår. \n",
    "\n",
    "Når en linær sammenheng ikke kan skyldes tilfeldighet kaller vi sammenhengen for *signifikant*. \n",
    "\n",
    "På grunn av ren tilfeldighet er sjeldent helningen i en regresjon null. Vi får derfor ikke noe ut av å se på selve koefisienten om den er null eller ikke. I stedet må vi se på p-verdien. p-verdien angir sannsynligheten for at resultatet skyldes tilfeldighet. Når denne sannsynligheten er mindre enn én prosent, konkluderer vi vanligvis med at resultatet er signifikant. "
   ]
  },
  {
   "cell_type": "markdown",
   "id": "3e1fc638",
   "metadata": {},
   "source": [
    "## Oppgave"
   ]
  },
  {
   "cell_type": "markdown",
   "id": "d0867a68",
   "metadata": {},
   "source": [
    "Koden under generer et datasett som du kan analysere med `statsmodels`. Kjør en regresjon med dataene, og forsøk med ulike verdier for `beta`for å finne ut hvor liten den må være for at resultatet ikke er signifikant:"
   ]
  },
  {
   "cell_type": "code",
   "execution_count": 25,
   "id": "0eced303",
   "metadata": {},
   "outputs": [
    {
     "data": {
      "text/html": [
       "<div>\n",
       "<style scoped>\n",
       "    .dataframe tbody tr th:only-of-type {\n",
       "        vertical-align: middle;\n",
       "    }\n",
       "\n",
       "    .dataframe tbody tr th {\n",
       "        vertical-align: top;\n",
       "    }\n",
       "\n",
       "    .dataframe thead th {\n",
       "        text-align: right;\n",
       "    }\n",
       "</style>\n",
       "<table border=\"1\" class=\"dataframe\">\n",
       "  <thead>\n",
       "    <tr style=\"text-align: right;\">\n",
       "      <th></th>\n",
       "      <th>y</th>\n",
       "      <th>x</th>\n",
       "    </tr>\n",
       "  </thead>\n",
       "  <tbody>\n",
       "    <tr>\n",
       "      <th>0</th>\n",
       "      <td>3.118503</td>\n",
       "      <td>5.973207</td>\n",
       "    </tr>\n",
       "    <tr>\n",
       "      <th>1</th>\n",
       "      <td>3.062684</td>\n",
       "      <td>5.505583</td>\n",
       "    </tr>\n",
       "    <tr>\n",
       "      <th>2</th>\n",
       "      <td>2.280989</td>\n",
       "      <td>5.184833</td>\n",
       "    </tr>\n",
       "    <tr>\n",
       "      <th>3</th>\n",
       "      <td>2.928980</td>\n",
       "      <td>5.547465</td>\n",
       "    </tr>\n",
       "    <tr>\n",
       "      <th>4</th>\n",
       "      <td>2.619747</td>\n",
       "      <td>5.425952</td>\n",
       "    </tr>\n",
       "    <tr>\n",
       "      <th>...</th>\n",
       "      <td>...</td>\n",
       "      <td>...</td>\n",
       "    </tr>\n",
       "    <tr>\n",
       "      <th>95</th>\n",
       "      <td>3.324439</td>\n",
       "      <td>5.838910</td>\n",
       "    </tr>\n",
       "    <tr>\n",
       "      <th>96</th>\n",
       "      <td>2.957866</td>\n",
       "      <td>5.905177</td>\n",
       "    </tr>\n",
       "    <tr>\n",
       "      <th>97</th>\n",
       "      <td>3.499373</td>\n",
       "      <td>5.603038</td>\n",
       "    </tr>\n",
       "    <tr>\n",
       "      <th>98</th>\n",
       "      <td>3.551558</td>\n",
       "      <td>5.736756</td>\n",
       "    </tr>\n",
       "    <tr>\n",
       "      <th>99</th>\n",
       "      <td>2.742896</td>\n",
       "      <td>5.625766</td>\n",
       "    </tr>\n",
       "  </tbody>\n",
       "</table>\n",
       "<p>100 rows × 2 columns</p>\n",
       "</div>"
      ],
      "text/plain": [
       "           y         x\n",
       "0   3.118503  5.973207\n",
       "1   3.062684  5.505583\n",
       "2   2.280989  5.184833\n",
       "3   2.928980  5.547465\n",
       "4   2.619747  5.425952\n",
       "..       ...       ...\n",
       "95  3.324439  5.838910\n",
       "96  2.957866  5.905177\n",
       "97  3.499373  5.603038\n",
       "98  3.551558  5.736756\n",
       "99  2.742896  5.625766\n",
       "\n",
       "[100 rows x 2 columns]"
      ]
     },
     "execution_count": 25,
     "metadata": {},
     "output_type": "execute_result"
    }
   ],
   "source": [
    "beta=1\n",
    "N=100\n",
    "x=5+np.random.rand(N)\n",
    "data=pd.DataFrame({'y':-3+beta*x+np.random.rand(N), 'x':x})\n",
    "data"
   ]
  },
  {
   "cell_type": "markdown",
   "id": "fdd3fbe7",
   "metadata": {},
   "source": [
    "##### [< Forrige](9%20-%20webskraping%20med%20python.ipynb)     |     [Neste >](11%20-%20interaktive%20websider.ipynb#Interaktivt-kart)"
   ]
  }
 ],
 "metadata": {
  "kernelspec": {
   "display_name": "Python 3 (ipykernel)",
   "language": "python",
   "name": "python3"
  },
  "language_info": {
   "codemirror_mode": {
    "name": "ipython",
    "version": 3
   },
   "file_extension": ".py",
   "mimetype": "text/x-python",
   "name": "python",
   "nbconvert_exporter": "python",
   "pygments_lexer": "ipython3",
   "version": "3.8.10"
  }
 },
 "nbformat": 4,
 "nbformat_minor": 5
}
